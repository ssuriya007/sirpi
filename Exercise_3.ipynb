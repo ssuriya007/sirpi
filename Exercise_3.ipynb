{
  "cells": [
    {
      "cell_type": "markdown",
      "metadata": {
        "id": "view-in-github",
        "colab_type": "text"
      },
      "source": [
        "<a href=\"https://colab.research.google.com/github/ssuriya007/sirpi/blob/main/Exercise_3.ipynb\" target=\"_parent\"><img src=\"https://colab.research.google.com/assets/colab-badge.svg\" alt=\"Open In Colab\"/></a>"
      ]
    },
    {
      "cell_type": "code",
      "execution_count": null,
      "id": "789de238",
      "metadata": {
        "id": "789de238"
      },
      "outputs": [],
      "source": [
        "x = 10\n",
        "b = \"test\""
      ]
    },
    {
      "cell_type": "code",
      "execution_count": null,
      "id": "6ffcc446",
      "metadata": {
        "id": "6ffcc446",
        "outputId": "9aa4ba74-c2b1-410e-f4c0-15663dfdfe79"
      },
      "outputs": [
        {
          "name": "stdout",
          "output_type": "stream",
          "text": [
            "10\n"
          ]
        },
        {
          "data": {
            "text/plain": [
              "'test'"
            ]
          },
          "execution_count": 69,
          "metadata": {},
          "output_type": "execute_result"
        }
      ],
      "source": [
        "print(x)\n",
        "b"
      ]
    },
    {
      "cell_type": "code",
      "execution_count": null,
      "id": "9f7a734a",
      "metadata": {
        "id": "9f7a734a",
        "outputId": "16bad538-9ea8-4bb8-baa6-4ff4321c1b0f"
      },
      "outputs": [
        {
          "name": "stdout",
          "output_type": "stream",
          "text": [
            "My given input is: 10\n"
          ]
        }
      ],
      "source": [
        "print(\"My given input is:\",x)"
      ]
    },
    {
      "cell_type": "code",
      "source": [
        "from google.colab import drive\n",
        "drive.mount('/content/drive')"
      ],
      "metadata": {
        "colab": {
          "base_uri": "https://localhost:8080/"
        },
        "id": "wzQC3bxghD2N",
        "outputId": "ea012f0c-a117-4419-b194-448306bb7edb"
      },
      "id": "wzQC3bxghD2N",
      "execution_count": null,
      "outputs": [
        {
          "output_type": "stream",
          "name": "stdout",
          "text": [
            "Mounted at /content/drive\n"
          ]
        }
      ]
    },
    {
      "cell_type": "code",
      "source": [
        "import pandas as pd\n",
        "df=pd.read_csv(\"/content/drive/MyDrive/suriya/Automobile.csv\")\n"
      ],
      "metadata": {
        "id": "UtDLBbAbhmVL"
      },
      "id": "UtDLBbAbhmVL",
      "execution_count": null,
      "outputs": []
    },
    {
      "cell_type": "code",
      "execution_count": null,
      "id": "3123660a",
      "metadata": {
        "colab": {
          "base_uri": "https://localhost:8080/",
          "height": 496
        },
        "id": "3123660a",
        "outputId": "69032e39-61a6-483c-9099-d746311e33ae"
      },
      "outputs": [
        {
          "output_type": "execute_result",
          "data": {
            "text/plain": [
              "     symboling  normalized_losses         make fuel_type aspiration  \\\n",
              "0            3                168  alfa-romero       gas        std   \n",
              "1            3                168  alfa-romero       gas        std   \n",
              "2            1                168  alfa-romero       gas        std   \n",
              "3            2                164         audi       gas        std   \n",
              "4            2                164         audi       gas        std   \n",
              "..         ...                ...          ...       ...        ...   \n",
              "196         -1                 95        volvo       gas        std   \n",
              "197         -1                 95        volvo       gas      turbo   \n",
              "198         -1                 95        volvo       gas        std   \n",
              "199         -1                 95        volvo    diesel      turbo   \n",
              "200         -1                 95        volvo       gas      turbo   \n",
              "\n",
              "    number_of_doors   body_style drive_wheels engine_location  wheel_base  \\\n",
              "0               two  convertible          rwd           front        88.6   \n",
              "1               two  convertible          rwd           front        88.6   \n",
              "2               two    hatchback          rwd           front        94.5   \n",
              "3              four        sedan          fwd           front        99.8   \n",
              "4              four        sedan          4wd           front        99.4   \n",
              "..              ...          ...          ...             ...         ...   \n",
              "196            four        sedan          rwd           front       109.1   \n",
              "197            four        sedan          rwd           front       109.1   \n",
              "198            four        sedan          rwd           front       109.1   \n",
              "199            four        sedan          rwd           front       109.1   \n",
              "200            four        sedan          rwd           front       109.1   \n",
              "\n",
              "     ...  engine_size  fuel_system  bore  stroke compression_ratio horsepower  \\\n",
              "0    ...          130         mpfi  3.47    2.68               9.0        111   \n",
              "1    ...          130         mpfi  3.47    2.68               9.0        111   \n",
              "2    ...          152         mpfi  2.68    3.47               9.0        154   \n",
              "3    ...          109         mpfi  3.19    3.40              10.0        102   \n",
              "4    ...          136         mpfi  3.19    3.40               8.0        115   \n",
              "..   ...          ...          ...   ...     ...               ...        ...   \n",
              "196  ...          141         mpfi  3.78    3.15               9.5        114   \n",
              "197  ...          141         mpfi  3.78    3.15               8.7        160   \n",
              "198  ...          173         mpfi  3.58    2.87               8.8        134   \n",
              "199  ...          145          idi  3.01    3.40              23.0        106   \n",
              "200  ...          141         mpfi  3.78    3.15               9.5        114   \n",
              "\n",
              "     peak_rpm city_mpg  highway_mpg  price  \n",
              "0        5000       21           27  13495  \n",
              "1        5000       21           27  16500  \n",
              "2        5000       19           26  16500  \n",
              "3        5500       24           30  13950  \n",
              "4        5500       18           22  17450  \n",
              "..        ...      ...          ...    ...  \n",
              "196      5400       23           28  16845  \n",
              "197      5300       19           25  19045  \n",
              "198      5500       18           23  21485  \n",
              "199      4800       26           27  22470  \n",
              "200      5400       19           25  22625  \n",
              "\n",
              "[201 rows x 26 columns]"
            ],
            "text/html": [
              "\n",
              "  <div id=\"df-6bd0743e-2cee-442b-b3c0-7d4dd28deae3\" class=\"colab-df-container\">\n",
              "    <div>\n",
              "<style scoped>\n",
              "    .dataframe tbody tr th:only-of-type {\n",
              "        vertical-align: middle;\n",
              "    }\n",
              "\n",
              "    .dataframe tbody tr th {\n",
              "        vertical-align: top;\n",
              "    }\n",
              "\n",
              "    .dataframe thead th {\n",
              "        text-align: right;\n",
              "    }\n",
              "</style>\n",
              "<table border=\"1\" class=\"dataframe\">\n",
              "  <thead>\n",
              "    <tr style=\"text-align: right;\">\n",
              "      <th></th>\n",
              "      <th>symboling</th>\n",
              "      <th>normalized_losses</th>\n",
              "      <th>make</th>\n",
              "      <th>fuel_type</th>\n",
              "      <th>aspiration</th>\n",
              "      <th>number_of_doors</th>\n",
              "      <th>body_style</th>\n",
              "      <th>drive_wheels</th>\n",
              "      <th>engine_location</th>\n",
              "      <th>wheel_base</th>\n",
              "      <th>...</th>\n",
              "      <th>engine_size</th>\n",
              "      <th>fuel_system</th>\n",
              "      <th>bore</th>\n",
              "      <th>stroke</th>\n",
              "      <th>compression_ratio</th>\n",
              "      <th>horsepower</th>\n",
              "      <th>peak_rpm</th>\n",
              "      <th>city_mpg</th>\n",
              "      <th>highway_mpg</th>\n",
              "      <th>price</th>\n",
              "    </tr>\n",
              "  </thead>\n",
              "  <tbody>\n",
              "    <tr>\n",
              "      <th>0</th>\n",
              "      <td>3</td>\n",
              "      <td>168</td>\n",
              "      <td>alfa-romero</td>\n",
              "      <td>gas</td>\n",
              "      <td>std</td>\n",
              "      <td>two</td>\n",
              "      <td>convertible</td>\n",
              "      <td>rwd</td>\n",
              "      <td>front</td>\n",
              "      <td>88.6</td>\n",
              "      <td>...</td>\n",
              "      <td>130</td>\n",
              "      <td>mpfi</td>\n",
              "      <td>3.47</td>\n",
              "      <td>2.68</td>\n",
              "      <td>9.0</td>\n",
              "      <td>111</td>\n",
              "      <td>5000</td>\n",
              "      <td>21</td>\n",
              "      <td>27</td>\n",
              "      <td>13495</td>\n",
              "    </tr>\n",
              "    <tr>\n",
              "      <th>1</th>\n",
              "      <td>3</td>\n",
              "      <td>168</td>\n",
              "      <td>alfa-romero</td>\n",
              "      <td>gas</td>\n",
              "      <td>std</td>\n",
              "      <td>two</td>\n",
              "      <td>convertible</td>\n",
              "      <td>rwd</td>\n",
              "      <td>front</td>\n",
              "      <td>88.6</td>\n",
              "      <td>...</td>\n",
              "      <td>130</td>\n",
              "      <td>mpfi</td>\n",
              "      <td>3.47</td>\n",
              "      <td>2.68</td>\n",
              "      <td>9.0</td>\n",
              "      <td>111</td>\n",
              "      <td>5000</td>\n",
              "      <td>21</td>\n",
              "      <td>27</td>\n",
              "      <td>16500</td>\n",
              "    </tr>\n",
              "    <tr>\n",
              "      <th>2</th>\n",
              "      <td>1</td>\n",
              "      <td>168</td>\n",
              "      <td>alfa-romero</td>\n",
              "      <td>gas</td>\n",
              "      <td>std</td>\n",
              "      <td>two</td>\n",
              "      <td>hatchback</td>\n",
              "      <td>rwd</td>\n",
              "      <td>front</td>\n",
              "      <td>94.5</td>\n",
              "      <td>...</td>\n",
              "      <td>152</td>\n",
              "      <td>mpfi</td>\n",
              "      <td>2.68</td>\n",
              "      <td>3.47</td>\n",
              "      <td>9.0</td>\n",
              "      <td>154</td>\n",
              "      <td>5000</td>\n",
              "      <td>19</td>\n",
              "      <td>26</td>\n",
              "      <td>16500</td>\n",
              "    </tr>\n",
              "    <tr>\n",
              "      <th>3</th>\n",
              "      <td>2</td>\n",
              "      <td>164</td>\n",
              "      <td>audi</td>\n",
              "      <td>gas</td>\n",
              "      <td>std</td>\n",
              "      <td>four</td>\n",
              "      <td>sedan</td>\n",
              "      <td>fwd</td>\n",
              "      <td>front</td>\n",
              "      <td>99.8</td>\n",
              "      <td>...</td>\n",
              "      <td>109</td>\n",
              "      <td>mpfi</td>\n",
              "      <td>3.19</td>\n",
              "      <td>3.40</td>\n",
              "      <td>10.0</td>\n",
              "      <td>102</td>\n",
              "      <td>5500</td>\n",
              "      <td>24</td>\n",
              "      <td>30</td>\n",
              "      <td>13950</td>\n",
              "    </tr>\n",
              "    <tr>\n",
              "      <th>4</th>\n",
              "      <td>2</td>\n",
              "      <td>164</td>\n",
              "      <td>audi</td>\n",
              "      <td>gas</td>\n",
              "      <td>std</td>\n",
              "      <td>four</td>\n",
              "      <td>sedan</td>\n",
              "      <td>4wd</td>\n",
              "      <td>front</td>\n",
              "      <td>99.4</td>\n",
              "      <td>...</td>\n",
              "      <td>136</td>\n",
              "      <td>mpfi</td>\n",
              "      <td>3.19</td>\n",
              "      <td>3.40</td>\n",
              "      <td>8.0</td>\n",
              "      <td>115</td>\n",
              "      <td>5500</td>\n",
              "      <td>18</td>\n",
              "      <td>22</td>\n",
              "      <td>17450</td>\n",
              "    </tr>\n",
              "    <tr>\n",
              "      <th>...</th>\n",
              "      <td>...</td>\n",
              "      <td>...</td>\n",
              "      <td>...</td>\n",
              "      <td>...</td>\n",
              "      <td>...</td>\n",
              "      <td>...</td>\n",
              "      <td>...</td>\n",
              "      <td>...</td>\n",
              "      <td>...</td>\n",
              "      <td>...</td>\n",
              "      <td>...</td>\n",
              "      <td>...</td>\n",
              "      <td>...</td>\n",
              "      <td>...</td>\n",
              "      <td>...</td>\n",
              "      <td>...</td>\n",
              "      <td>...</td>\n",
              "      <td>...</td>\n",
              "      <td>...</td>\n",
              "      <td>...</td>\n",
              "      <td>...</td>\n",
              "    </tr>\n",
              "    <tr>\n",
              "      <th>196</th>\n",
              "      <td>-1</td>\n",
              "      <td>95</td>\n",
              "      <td>volvo</td>\n",
              "      <td>gas</td>\n",
              "      <td>std</td>\n",
              "      <td>four</td>\n",
              "      <td>sedan</td>\n",
              "      <td>rwd</td>\n",
              "      <td>front</td>\n",
              "      <td>109.1</td>\n",
              "      <td>...</td>\n",
              "      <td>141</td>\n",
              "      <td>mpfi</td>\n",
              "      <td>3.78</td>\n",
              "      <td>3.15</td>\n",
              "      <td>9.5</td>\n",
              "      <td>114</td>\n",
              "      <td>5400</td>\n",
              "      <td>23</td>\n",
              "      <td>28</td>\n",
              "      <td>16845</td>\n",
              "    </tr>\n",
              "    <tr>\n",
              "      <th>197</th>\n",
              "      <td>-1</td>\n",
              "      <td>95</td>\n",
              "      <td>volvo</td>\n",
              "      <td>gas</td>\n",
              "      <td>turbo</td>\n",
              "      <td>four</td>\n",
              "      <td>sedan</td>\n",
              "      <td>rwd</td>\n",
              "      <td>front</td>\n",
              "      <td>109.1</td>\n",
              "      <td>...</td>\n",
              "      <td>141</td>\n",
              "      <td>mpfi</td>\n",
              "      <td>3.78</td>\n",
              "      <td>3.15</td>\n",
              "      <td>8.7</td>\n",
              "      <td>160</td>\n",
              "      <td>5300</td>\n",
              "      <td>19</td>\n",
              "      <td>25</td>\n",
              "      <td>19045</td>\n",
              "    </tr>\n",
              "    <tr>\n",
              "      <th>198</th>\n",
              "      <td>-1</td>\n",
              "      <td>95</td>\n",
              "      <td>volvo</td>\n",
              "      <td>gas</td>\n",
              "      <td>std</td>\n",
              "      <td>four</td>\n",
              "      <td>sedan</td>\n",
              "      <td>rwd</td>\n",
              "      <td>front</td>\n",
              "      <td>109.1</td>\n",
              "      <td>...</td>\n",
              "      <td>173</td>\n",
              "      <td>mpfi</td>\n",
              "      <td>3.58</td>\n",
              "      <td>2.87</td>\n",
              "      <td>8.8</td>\n",
              "      <td>134</td>\n",
              "      <td>5500</td>\n",
              "      <td>18</td>\n",
              "      <td>23</td>\n",
              "      <td>21485</td>\n",
              "    </tr>\n",
              "    <tr>\n",
              "      <th>199</th>\n",
              "      <td>-1</td>\n",
              "      <td>95</td>\n",
              "      <td>volvo</td>\n",
              "      <td>diesel</td>\n",
              "      <td>turbo</td>\n",
              "      <td>four</td>\n",
              "      <td>sedan</td>\n",
              "      <td>rwd</td>\n",
              "      <td>front</td>\n",
              "      <td>109.1</td>\n",
              "      <td>...</td>\n",
              "      <td>145</td>\n",
              "      <td>idi</td>\n",
              "      <td>3.01</td>\n",
              "      <td>3.40</td>\n",
              "      <td>23.0</td>\n",
              "      <td>106</td>\n",
              "      <td>4800</td>\n",
              "      <td>26</td>\n",
              "      <td>27</td>\n",
              "      <td>22470</td>\n",
              "    </tr>\n",
              "    <tr>\n",
              "      <th>200</th>\n",
              "      <td>-1</td>\n",
              "      <td>95</td>\n",
              "      <td>volvo</td>\n",
              "      <td>gas</td>\n",
              "      <td>turbo</td>\n",
              "      <td>four</td>\n",
              "      <td>sedan</td>\n",
              "      <td>rwd</td>\n",
              "      <td>front</td>\n",
              "      <td>109.1</td>\n",
              "      <td>...</td>\n",
              "      <td>141</td>\n",
              "      <td>mpfi</td>\n",
              "      <td>3.78</td>\n",
              "      <td>3.15</td>\n",
              "      <td>9.5</td>\n",
              "      <td>114</td>\n",
              "      <td>5400</td>\n",
              "      <td>19</td>\n",
              "      <td>25</td>\n",
              "      <td>22625</td>\n",
              "    </tr>\n",
              "  </tbody>\n",
              "</table>\n",
              "<p>201 rows × 26 columns</p>\n",
              "</div>\n",
              "    <div class=\"colab-df-buttons\">\n",
              "\n",
              "  <div class=\"colab-df-container\">\n",
              "    <button class=\"colab-df-convert\" onclick=\"convertToInteractive('df-6bd0743e-2cee-442b-b3c0-7d4dd28deae3')\"\n",
              "            title=\"Convert this dataframe to an interactive table.\"\n",
              "            style=\"display:none;\">\n",
              "\n",
              "  <svg xmlns=\"http://www.w3.org/2000/svg\" height=\"24px\" viewBox=\"0 -960 960 960\">\n",
              "    <path d=\"M120-120v-720h720v720H120Zm60-500h600v-160H180v160Zm220 220h160v-160H400v160Zm0 220h160v-160H400v160ZM180-400h160v-160H180v160Zm440 0h160v-160H620v160ZM180-180h160v-160H180v160Zm440 0h160v-160H620v160Z\"/>\n",
              "  </svg>\n",
              "    </button>\n",
              "\n",
              "  <style>\n",
              "    .colab-df-container {\n",
              "      display:flex;\n",
              "      gap: 12px;\n",
              "    }\n",
              "\n",
              "    .colab-df-convert {\n",
              "      background-color: #E8F0FE;\n",
              "      border: none;\n",
              "      border-radius: 50%;\n",
              "      cursor: pointer;\n",
              "      display: none;\n",
              "      fill: #1967D2;\n",
              "      height: 32px;\n",
              "      padding: 0 0 0 0;\n",
              "      width: 32px;\n",
              "    }\n",
              "\n",
              "    .colab-df-convert:hover {\n",
              "      background-color: #E2EBFA;\n",
              "      box-shadow: 0px 1px 2px rgba(60, 64, 67, 0.3), 0px 1px 3px 1px rgba(60, 64, 67, 0.15);\n",
              "      fill: #174EA6;\n",
              "    }\n",
              "\n",
              "    .colab-df-buttons div {\n",
              "      margin-bottom: 4px;\n",
              "    }\n",
              "\n",
              "    [theme=dark] .colab-df-convert {\n",
              "      background-color: #3B4455;\n",
              "      fill: #D2E3FC;\n",
              "    }\n",
              "\n",
              "    [theme=dark] .colab-df-convert:hover {\n",
              "      background-color: #434B5C;\n",
              "      box-shadow: 0px 1px 3px 1px rgba(0, 0, 0, 0.15);\n",
              "      filter: drop-shadow(0px 1px 2px rgba(0, 0, 0, 0.3));\n",
              "      fill: #FFFFFF;\n",
              "    }\n",
              "  </style>\n",
              "\n",
              "    <script>\n",
              "      const buttonEl =\n",
              "        document.querySelector('#df-6bd0743e-2cee-442b-b3c0-7d4dd28deae3 button.colab-df-convert');\n",
              "      buttonEl.style.display =\n",
              "        google.colab.kernel.accessAllowed ? 'block' : 'none';\n",
              "\n",
              "      async function convertToInteractive(key) {\n",
              "        const element = document.querySelector('#df-6bd0743e-2cee-442b-b3c0-7d4dd28deae3');\n",
              "        const dataTable =\n",
              "          await google.colab.kernel.invokeFunction('convertToInteractive',\n",
              "                                                    [key], {});\n",
              "        if (!dataTable) return;\n",
              "\n",
              "        const docLinkHtml = 'Like what you see? Visit the ' +\n",
              "          '<a target=\"_blank\" href=https://colab.research.google.com/notebooks/data_table.ipynb>data table notebook</a>'\n",
              "          + ' to learn more about interactive tables.';\n",
              "        element.innerHTML = '';\n",
              "        dataTable['output_type'] = 'display_data';\n",
              "        await google.colab.output.renderOutput(dataTable, element);\n",
              "        const docLink = document.createElement('div');\n",
              "        docLink.innerHTML = docLinkHtml;\n",
              "        element.appendChild(docLink);\n",
              "      }\n",
              "    </script>\n",
              "  </div>\n",
              "\n",
              "\n",
              "<div id=\"df-f8a705ca-8550-4426-aecf-81ea6c243364\">\n",
              "  <button class=\"colab-df-quickchart\" onclick=\"quickchart('df-f8a705ca-8550-4426-aecf-81ea6c243364')\"\n",
              "            title=\"Suggest charts\"\n",
              "            style=\"display:none;\">\n",
              "\n",
              "<svg xmlns=\"http://www.w3.org/2000/svg\" height=\"24px\"viewBox=\"0 0 24 24\"\n",
              "     width=\"24px\">\n",
              "    <g>\n",
              "        <path d=\"M19 3H5c-1.1 0-2 .9-2 2v14c0 1.1.9 2 2 2h14c1.1 0 2-.9 2-2V5c0-1.1-.9-2-2-2zM9 17H7v-7h2v7zm4 0h-2V7h2v10zm4 0h-2v-4h2v4z\"/>\n",
              "    </g>\n",
              "</svg>\n",
              "  </button>\n",
              "\n",
              "<style>\n",
              "  .colab-df-quickchart {\n",
              "      --bg-color: #E8F0FE;\n",
              "      --fill-color: #1967D2;\n",
              "      --hover-bg-color: #E2EBFA;\n",
              "      --hover-fill-color: #174EA6;\n",
              "      --disabled-fill-color: #AAA;\n",
              "      --disabled-bg-color: #DDD;\n",
              "  }\n",
              "\n",
              "  [theme=dark] .colab-df-quickchart {\n",
              "      --bg-color: #3B4455;\n",
              "      --fill-color: #D2E3FC;\n",
              "      --hover-bg-color: #434B5C;\n",
              "      --hover-fill-color: #FFFFFF;\n",
              "      --disabled-bg-color: #3B4455;\n",
              "      --disabled-fill-color: #666;\n",
              "  }\n",
              "\n",
              "  .colab-df-quickchart {\n",
              "    background-color: var(--bg-color);\n",
              "    border: none;\n",
              "    border-radius: 50%;\n",
              "    cursor: pointer;\n",
              "    display: none;\n",
              "    fill: var(--fill-color);\n",
              "    height: 32px;\n",
              "    padding: 0;\n",
              "    width: 32px;\n",
              "  }\n",
              "\n",
              "  .colab-df-quickchart:hover {\n",
              "    background-color: var(--hover-bg-color);\n",
              "    box-shadow: 0 1px 2px rgba(60, 64, 67, 0.3), 0 1px 3px 1px rgba(60, 64, 67, 0.15);\n",
              "    fill: var(--button-hover-fill-color);\n",
              "  }\n",
              "\n",
              "  .colab-df-quickchart-complete:disabled,\n",
              "  .colab-df-quickchart-complete:disabled:hover {\n",
              "    background-color: var(--disabled-bg-color);\n",
              "    fill: var(--disabled-fill-color);\n",
              "    box-shadow: none;\n",
              "  }\n",
              "\n",
              "  .colab-df-spinner {\n",
              "    border: 2px solid var(--fill-color);\n",
              "    border-color: transparent;\n",
              "    border-bottom-color: var(--fill-color);\n",
              "    animation:\n",
              "      spin 1s steps(1) infinite;\n",
              "  }\n",
              "\n",
              "  @keyframes spin {\n",
              "    0% {\n",
              "      border-color: transparent;\n",
              "      border-bottom-color: var(--fill-color);\n",
              "      border-left-color: var(--fill-color);\n",
              "    }\n",
              "    20% {\n",
              "      border-color: transparent;\n",
              "      border-left-color: var(--fill-color);\n",
              "      border-top-color: var(--fill-color);\n",
              "    }\n",
              "    30% {\n",
              "      border-color: transparent;\n",
              "      border-left-color: var(--fill-color);\n",
              "      border-top-color: var(--fill-color);\n",
              "      border-right-color: var(--fill-color);\n",
              "    }\n",
              "    40% {\n",
              "      border-color: transparent;\n",
              "      border-right-color: var(--fill-color);\n",
              "      border-top-color: var(--fill-color);\n",
              "    }\n",
              "    60% {\n",
              "      border-color: transparent;\n",
              "      border-right-color: var(--fill-color);\n",
              "    }\n",
              "    80% {\n",
              "      border-color: transparent;\n",
              "      border-right-color: var(--fill-color);\n",
              "      border-bottom-color: var(--fill-color);\n",
              "    }\n",
              "    90% {\n",
              "      border-color: transparent;\n",
              "      border-bottom-color: var(--fill-color);\n",
              "    }\n",
              "  }\n",
              "</style>\n",
              "\n",
              "  <script>\n",
              "    async function quickchart(key) {\n",
              "      const quickchartButtonEl =\n",
              "        document.querySelector('#' + key + ' button');\n",
              "      quickchartButtonEl.disabled = true;  // To prevent multiple clicks.\n",
              "      quickchartButtonEl.classList.add('colab-df-spinner');\n",
              "      try {\n",
              "        const charts = await google.colab.kernel.invokeFunction(\n",
              "            'suggestCharts', [key], {});\n",
              "      } catch (error) {\n",
              "        console.error('Error during call to suggestCharts:', error);\n",
              "      }\n",
              "      quickchartButtonEl.classList.remove('colab-df-spinner');\n",
              "      quickchartButtonEl.classList.add('colab-df-quickchart-complete');\n",
              "    }\n",
              "    (() => {\n",
              "      let quickchartButtonEl =\n",
              "        document.querySelector('#df-f8a705ca-8550-4426-aecf-81ea6c243364 button');\n",
              "      quickchartButtonEl.style.display =\n",
              "        google.colab.kernel.accessAllowed ? 'block' : 'none';\n",
              "    })();\n",
              "  </script>\n",
              "</div>\n",
              "\n",
              "  <div id=\"id_65a974f1-5124-495c-be77-922699b06157\">\n",
              "    <style>\n",
              "      .colab-df-generate {\n",
              "        background-color: #E8F0FE;\n",
              "        border: none;\n",
              "        border-radius: 50%;\n",
              "        cursor: pointer;\n",
              "        display: none;\n",
              "        fill: #1967D2;\n",
              "        height: 32px;\n",
              "        padding: 0 0 0 0;\n",
              "        width: 32px;\n",
              "      }\n",
              "\n",
              "      .colab-df-generate:hover {\n",
              "        background-color: #E2EBFA;\n",
              "        box-shadow: 0px 1px 2px rgba(60, 64, 67, 0.3), 0px 1px 3px 1px rgba(60, 64, 67, 0.15);\n",
              "        fill: #174EA6;\n",
              "      }\n",
              "\n",
              "      [theme=dark] .colab-df-generate {\n",
              "        background-color: #3B4455;\n",
              "        fill: #D2E3FC;\n",
              "      }\n",
              "\n",
              "      [theme=dark] .colab-df-generate:hover {\n",
              "        background-color: #434B5C;\n",
              "        box-shadow: 0px 1px 3px 1px rgba(0, 0, 0, 0.15);\n",
              "        filter: drop-shadow(0px 1px 2px rgba(0, 0, 0, 0.3));\n",
              "        fill: #FFFFFF;\n",
              "      }\n",
              "    </style>\n",
              "    <button class=\"colab-df-generate\" onclick=\"generateWithVariable('df')\"\n",
              "            title=\"Generate code using this dataframe.\"\n",
              "            style=\"display:none;\">\n",
              "\n",
              "  <svg xmlns=\"http://www.w3.org/2000/svg\" height=\"24px\"viewBox=\"0 0 24 24\"\n",
              "       width=\"24px\">\n",
              "    <path d=\"M7,19H8.4L18.45,9,17,7.55,7,17.6ZM5,21V16.75L18.45,3.32a2,2,0,0,1,2.83,0l1.4,1.43a1.91,1.91,0,0,1,.58,1.4,1.91,1.91,0,0,1-.58,1.4L9.25,21ZM18.45,9,17,7.55Zm-12,3A5.31,5.31,0,0,0,4.9,8.1,5.31,5.31,0,0,0,1,6.5,5.31,5.31,0,0,0,4.9,4.9,5.31,5.31,0,0,0,6.5,1,5.31,5.31,0,0,0,8.1,4.9,5.31,5.31,0,0,0,12,6.5,5.46,5.46,0,0,0,6.5,12Z\"/>\n",
              "  </svg>\n",
              "    </button>\n",
              "    <script>\n",
              "      (() => {\n",
              "      const buttonEl =\n",
              "        document.querySelector('#id_65a974f1-5124-495c-be77-922699b06157 button.colab-df-generate');\n",
              "      buttonEl.style.display =\n",
              "        google.colab.kernel.accessAllowed ? 'block' : 'none';\n",
              "\n",
              "      buttonEl.onclick = () => {\n",
              "        google.colab.notebook.generateWithVariable('df');\n",
              "      }\n",
              "      })();\n",
              "    </script>\n",
              "  </div>\n",
              "\n",
              "    </div>\n",
              "  </div>\n"
            ],
            "application/vnd.google.colaboratory.intrinsic+json": {
              "type": "dataframe",
              "variable_name": "df"
            }
          },
          "metadata": {},
          "execution_count": 3
        }
      ],
      "source": [
        "import pandas as pd\n",
        "import numpy as np\n",
        "df"
      ]
    },
    {
      "cell_type": "code",
      "execution_count": null,
      "id": "906497ba",
      "metadata": {
        "id": "906497ba"
      },
      "outputs": [],
      "source": [
        "df.fillna()"
      ]
    },
    {
      "cell_type": "code",
      "execution_count": null,
      "id": "1095b75d",
      "metadata": {
        "id": "1095b75d",
        "outputId": "43d96079-e54b-4f69-d635-5a67fb7683c2",
        "colab": {
          "base_uri": "https://localhost:8080/",
          "height": 196
        }
      },
      "outputs": [
        {
          "output_type": "execute_result",
          "data": {
            "text/plain": [
              "   symboling  normalized_losses         make fuel_type aspiration  \\\n",
              "0          3                168  alfa-romero       gas        std   \n",
              "1          3                168  alfa-romero       gas        std   \n",
              "\n",
              "  number_of_doors   body_style drive_wheels engine_location  wheel_base  ...  \\\n",
              "0             two  convertible          rwd           front        88.6  ...   \n",
              "1             two  convertible          rwd           front        88.6  ...   \n",
              "\n",
              "   engine_size  fuel_system  bore  stroke compression_ratio horsepower  \\\n",
              "0          130         mpfi  3.47    2.68               9.0        111   \n",
              "1          130         mpfi  3.47    2.68               9.0        111   \n",
              "\n",
              "   peak_rpm city_mpg  highway_mpg  price  \n",
              "0      5000       21           27  13495  \n",
              "1      5000       21           27  16500  \n",
              "\n",
              "[2 rows x 26 columns]"
            ],
            "text/html": [
              "\n",
              "  <div id=\"df-c0048c55-af03-45b6-b693-7693a12ee361\" class=\"colab-df-container\">\n",
              "    <div>\n",
              "<style scoped>\n",
              "    .dataframe tbody tr th:only-of-type {\n",
              "        vertical-align: middle;\n",
              "    }\n",
              "\n",
              "    .dataframe tbody tr th {\n",
              "        vertical-align: top;\n",
              "    }\n",
              "\n",
              "    .dataframe thead th {\n",
              "        text-align: right;\n",
              "    }\n",
              "</style>\n",
              "<table border=\"1\" class=\"dataframe\">\n",
              "  <thead>\n",
              "    <tr style=\"text-align: right;\">\n",
              "      <th></th>\n",
              "      <th>symboling</th>\n",
              "      <th>normalized_losses</th>\n",
              "      <th>make</th>\n",
              "      <th>fuel_type</th>\n",
              "      <th>aspiration</th>\n",
              "      <th>number_of_doors</th>\n",
              "      <th>body_style</th>\n",
              "      <th>drive_wheels</th>\n",
              "      <th>engine_location</th>\n",
              "      <th>wheel_base</th>\n",
              "      <th>...</th>\n",
              "      <th>engine_size</th>\n",
              "      <th>fuel_system</th>\n",
              "      <th>bore</th>\n",
              "      <th>stroke</th>\n",
              "      <th>compression_ratio</th>\n",
              "      <th>horsepower</th>\n",
              "      <th>peak_rpm</th>\n",
              "      <th>city_mpg</th>\n",
              "      <th>highway_mpg</th>\n",
              "      <th>price</th>\n",
              "    </tr>\n",
              "  </thead>\n",
              "  <tbody>\n",
              "    <tr>\n",
              "      <th>0</th>\n",
              "      <td>3</td>\n",
              "      <td>168</td>\n",
              "      <td>alfa-romero</td>\n",
              "      <td>gas</td>\n",
              "      <td>std</td>\n",
              "      <td>two</td>\n",
              "      <td>convertible</td>\n",
              "      <td>rwd</td>\n",
              "      <td>front</td>\n",
              "      <td>88.6</td>\n",
              "      <td>...</td>\n",
              "      <td>130</td>\n",
              "      <td>mpfi</td>\n",
              "      <td>3.47</td>\n",
              "      <td>2.68</td>\n",
              "      <td>9.0</td>\n",
              "      <td>111</td>\n",
              "      <td>5000</td>\n",
              "      <td>21</td>\n",
              "      <td>27</td>\n",
              "      <td>13495</td>\n",
              "    </tr>\n",
              "    <tr>\n",
              "      <th>1</th>\n",
              "      <td>3</td>\n",
              "      <td>168</td>\n",
              "      <td>alfa-romero</td>\n",
              "      <td>gas</td>\n",
              "      <td>std</td>\n",
              "      <td>two</td>\n",
              "      <td>convertible</td>\n",
              "      <td>rwd</td>\n",
              "      <td>front</td>\n",
              "      <td>88.6</td>\n",
              "      <td>...</td>\n",
              "      <td>130</td>\n",
              "      <td>mpfi</td>\n",
              "      <td>3.47</td>\n",
              "      <td>2.68</td>\n",
              "      <td>9.0</td>\n",
              "      <td>111</td>\n",
              "      <td>5000</td>\n",
              "      <td>21</td>\n",
              "      <td>27</td>\n",
              "      <td>16500</td>\n",
              "    </tr>\n",
              "  </tbody>\n",
              "</table>\n",
              "<p>2 rows × 26 columns</p>\n",
              "</div>\n",
              "    <div class=\"colab-df-buttons\">\n",
              "\n",
              "  <div class=\"colab-df-container\">\n",
              "    <button class=\"colab-df-convert\" onclick=\"convertToInteractive('df-c0048c55-af03-45b6-b693-7693a12ee361')\"\n",
              "            title=\"Convert this dataframe to an interactive table.\"\n",
              "            style=\"display:none;\">\n",
              "\n",
              "  <svg xmlns=\"http://www.w3.org/2000/svg\" height=\"24px\" viewBox=\"0 -960 960 960\">\n",
              "    <path d=\"M120-120v-720h720v720H120Zm60-500h600v-160H180v160Zm220 220h160v-160H400v160Zm0 220h160v-160H400v160ZM180-400h160v-160H180v160Zm440 0h160v-160H620v160ZM180-180h160v-160H180v160Zm440 0h160v-160H620v160Z\"/>\n",
              "  </svg>\n",
              "    </button>\n",
              "\n",
              "  <style>\n",
              "    .colab-df-container {\n",
              "      display:flex;\n",
              "      gap: 12px;\n",
              "    }\n",
              "\n",
              "    .colab-df-convert {\n",
              "      background-color: #E8F0FE;\n",
              "      border: none;\n",
              "      border-radius: 50%;\n",
              "      cursor: pointer;\n",
              "      display: none;\n",
              "      fill: #1967D2;\n",
              "      height: 32px;\n",
              "      padding: 0 0 0 0;\n",
              "      width: 32px;\n",
              "    }\n",
              "\n",
              "    .colab-df-convert:hover {\n",
              "      background-color: #E2EBFA;\n",
              "      box-shadow: 0px 1px 2px rgba(60, 64, 67, 0.3), 0px 1px 3px 1px rgba(60, 64, 67, 0.15);\n",
              "      fill: #174EA6;\n",
              "    }\n",
              "\n",
              "    .colab-df-buttons div {\n",
              "      margin-bottom: 4px;\n",
              "    }\n",
              "\n",
              "    [theme=dark] .colab-df-convert {\n",
              "      background-color: #3B4455;\n",
              "      fill: #D2E3FC;\n",
              "    }\n",
              "\n",
              "    [theme=dark] .colab-df-convert:hover {\n",
              "      background-color: #434B5C;\n",
              "      box-shadow: 0px 1px 3px 1px rgba(0, 0, 0, 0.15);\n",
              "      filter: drop-shadow(0px 1px 2px rgba(0, 0, 0, 0.3));\n",
              "      fill: #FFFFFF;\n",
              "    }\n",
              "  </style>\n",
              "\n",
              "    <script>\n",
              "      const buttonEl =\n",
              "        document.querySelector('#df-c0048c55-af03-45b6-b693-7693a12ee361 button.colab-df-convert');\n",
              "      buttonEl.style.display =\n",
              "        google.colab.kernel.accessAllowed ? 'block' : 'none';\n",
              "\n",
              "      async function convertToInteractive(key) {\n",
              "        const element = document.querySelector('#df-c0048c55-af03-45b6-b693-7693a12ee361');\n",
              "        const dataTable =\n",
              "          await google.colab.kernel.invokeFunction('convertToInteractive',\n",
              "                                                    [key], {});\n",
              "        if (!dataTable) return;\n",
              "\n",
              "        const docLinkHtml = 'Like what you see? Visit the ' +\n",
              "          '<a target=\"_blank\" href=https://colab.research.google.com/notebooks/data_table.ipynb>data table notebook</a>'\n",
              "          + ' to learn more about interactive tables.';\n",
              "        element.innerHTML = '';\n",
              "        dataTable['output_type'] = 'display_data';\n",
              "        await google.colab.output.renderOutput(dataTable, element);\n",
              "        const docLink = document.createElement('div');\n",
              "        docLink.innerHTML = docLinkHtml;\n",
              "        element.appendChild(docLink);\n",
              "      }\n",
              "    </script>\n",
              "  </div>\n",
              "\n",
              "\n",
              "<div id=\"df-92d006ef-c7a1-4ee2-b09b-6f5e4c53753b\">\n",
              "  <button class=\"colab-df-quickchart\" onclick=\"quickchart('df-92d006ef-c7a1-4ee2-b09b-6f5e4c53753b')\"\n",
              "            title=\"Suggest charts\"\n",
              "            style=\"display:none;\">\n",
              "\n",
              "<svg xmlns=\"http://www.w3.org/2000/svg\" height=\"24px\"viewBox=\"0 0 24 24\"\n",
              "     width=\"24px\">\n",
              "    <g>\n",
              "        <path d=\"M19 3H5c-1.1 0-2 .9-2 2v14c0 1.1.9 2 2 2h14c1.1 0 2-.9 2-2V5c0-1.1-.9-2-2-2zM9 17H7v-7h2v7zm4 0h-2V7h2v10zm4 0h-2v-4h2v4z\"/>\n",
              "    </g>\n",
              "</svg>\n",
              "  </button>\n",
              "\n",
              "<style>\n",
              "  .colab-df-quickchart {\n",
              "      --bg-color: #E8F0FE;\n",
              "      --fill-color: #1967D2;\n",
              "      --hover-bg-color: #E2EBFA;\n",
              "      --hover-fill-color: #174EA6;\n",
              "      --disabled-fill-color: #AAA;\n",
              "      --disabled-bg-color: #DDD;\n",
              "  }\n",
              "\n",
              "  [theme=dark] .colab-df-quickchart {\n",
              "      --bg-color: #3B4455;\n",
              "      --fill-color: #D2E3FC;\n",
              "      --hover-bg-color: #434B5C;\n",
              "      --hover-fill-color: #FFFFFF;\n",
              "      --disabled-bg-color: #3B4455;\n",
              "      --disabled-fill-color: #666;\n",
              "  }\n",
              "\n",
              "  .colab-df-quickchart {\n",
              "    background-color: var(--bg-color);\n",
              "    border: none;\n",
              "    border-radius: 50%;\n",
              "    cursor: pointer;\n",
              "    display: none;\n",
              "    fill: var(--fill-color);\n",
              "    height: 32px;\n",
              "    padding: 0;\n",
              "    width: 32px;\n",
              "  }\n",
              "\n",
              "  .colab-df-quickchart:hover {\n",
              "    background-color: var(--hover-bg-color);\n",
              "    box-shadow: 0 1px 2px rgba(60, 64, 67, 0.3), 0 1px 3px 1px rgba(60, 64, 67, 0.15);\n",
              "    fill: var(--button-hover-fill-color);\n",
              "  }\n",
              "\n",
              "  .colab-df-quickchart-complete:disabled,\n",
              "  .colab-df-quickchart-complete:disabled:hover {\n",
              "    background-color: var(--disabled-bg-color);\n",
              "    fill: var(--disabled-fill-color);\n",
              "    box-shadow: none;\n",
              "  }\n",
              "\n",
              "  .colab-df-spinner {\n",
              "    border: 2px solid var(--fill-color);\n",
              "    border-color: transparent;\n",
              "    border-bottom-color: var(--fill-color);\n",
              "    animation:\n",
              "      spin 1s steps(1) infinite;\n",
              "  }\n",
              "\n",
              "  @keyframes spin {\n",
              "    0% {\n",
              "      border-color: transparent;\n",
              "      border-bottom-color: var(--fill-color);\n",
              "      border-left-color: var(--fill-color);\n",
              "    }\n",
              "    20% {\n",
              "      border-color: transparent;\n",
              "      border-left-color: var(--fill-color);\n",
              "      border-top-color: var(--fill-color);\n",
              "    }\n",
              "    30% {\n",
              "      border-color: transparent;\n",
              "      border-left-color: var(--fill-color);\n",
              "      border-top-color: var(--fill-color);\n",
              "      border-right-color: var(--fill-color);\n",
              "    }\n",
              "    40% {\n",
              "      border-color: transparent;\n",
              "      border-right-color: var(--fill-color);\n",
              "      border-top-color: var(--fill-color);\n",
              "    }\n",
              "    60% {\n",
              "      border-color: transparent;\n",
              "      border-right-color: var(--fill-color);\n",
              "    }\n",
              "    80% {\n",
              "      border-color: transparent;\n",
              "      border-right-color: var(--fill-color);\n",
              "      border-bottom-color: var(--fill-color);\n",
              "    }\n",
              "    90% {\n",
              "      border-color: transparent;\n",
              "      border-bottom-color: var(--fill-color);\n",
              "    }\n",
              "  }\n",
              "</style>\n",
              "\n",
              "  <script>\n",
              "    async function quickchart(key) {\n",
              "      const quickchartButtonEl =\n",
              "        document.querySelector('#' + key + ' button');\n",
              "      quickchartButtonEl.disabled = true;  // To prevent multiple clicks.\n",
              "      quickchartButtonEl.classList.add('colab-df-spinner');\n",
              "      try {\n",
              "        const charts = await google.colab.kernel.invokeFunction(\n",
              "            'suggestCharts', [key], {});\n",
              "      } catch (error) {\n",
              "        console.error('Error during call to suggestCharts:', error);\n",
              "      }\n",
              "      quickchartButtonEl.classList.remove('colab-df-spinner');\n",
              "      quickchartButtonEl.classList.add('colab-df-quickchart-complete');\n",
              "    }\n",
              "    (() => {\n",
              "      let quickchartButtonEl =\n",
              "        document.querySelector('#df-92d006ef-c7a1-4ee2-b09b-6f5e4c53753b button');\n",
              "      quickchartButtonEl.style.display =\n",
              "        google.colab.kernel.accessAllowed ? 'block' : 'none';\n",
              "    })();\n",
              "  </script>\n",
              "</div>\n",
              "\n",
              "    </div>\n",
              "  </div>\n"
            ],
            "application/vnd.google.colaboratory.intrinsic+json": {
              "type": "dataframe",
              "variable_name": "df"
            }
          },
          "metadata": {},
          "execution_count": 5
        }
      ],
      "source": [
        "df.head(2)"
      ]
    },
    {
      "cell_type": "code",
      "execution_count": null,
      "id": "f859d861",
      "metadata": {
        "id": "f859d861",
        "outputId": "1d4a0616-8d0e-4196-caed-ff0254a88108"
      },
      "outputs": [
        {
          "data": {
            "text/html": [
              "<div>\n",
              "<style scoped>\n",
              "    .dataframe tbody tr th:only-of-type {\n",
              "        vertical-align: middle;\n",
              "    }\n",
              "\n",
              "    .dataframe tbody tr th {\n",
              "        vertical-align: top;\n",
              "    }\n",
              "\n",
              "    .dataframe thead th {\n",
              "        text-align: right;\n",
              "    }\n",
              "</style>\n",
              "<table border=\"1\" class=\"dataframe\">\n",
              "  <thead>\n",
              "    <tr style=\"text-align: right;\">\n",
              "      <th></th>\n",
              "      <th>symboling</th>\n",
              "      <th>normalized_losses</th>\n",
              "      <th>make</th>\n",
              "      <th>fuel_type</th>\n",
              "      <th>aspiration</th>\n",
              "      <th>number_of_doors</th>\n",
              "      <th>body_style</th>\n",
              "      <th>drive_wheels</th>\n",
              "      <th>engine_location</th>\n",
              "      <th>wheel_base</th>\n",
              "      <th>...</th>\n",
              "      <th>engine_size</th>\n",
              "      <th>fuel_system</th>\n",
              "      <th>bore</th>\n",
              "      <th>stroke</th>\n",
              "      <th>compression_ratio</th>\n",
              "      <th>horsepower</th>\n",
              "      <th>peak_rpm</th>\n",
              "      <th>city_mpg</th>\n",
              "      <th>highway_mpg</th>\n",
              "      <th>price</th>\n",
              "    </tr>\n",
              "  </thead>\n",
              "  <tbody>\n",
              "    <tr>\n",
              "      <th>195</th>\n",
              "      <td>-1</td>\n",
              "      <td>74</td>\n",
              "      <td>volvo</td>\n",
              "      <td>gas</td>\n",
              "      <td>turbo</td>\n",
              "      <td>four</td>\n",
              "      <td>wagon</td>\n",
              "      <td>rwd</td>\n",
              "      <td>front</td>\n",
              "      <td>104.3</td>\n",
              "      <td>...</td>\n",
              "      <td>130</td>\n",
              "      <td>mpfi</td>\n",
              "      <td>3.62</td>\n",
              "      <td>3.15</td>\n",
              "      <td>7.5</td>\n",
              "      <td>162</td>\n",
              "      <td>5100</td>\n",
              "      <td>17</td>\n",
              "      <td>22</td>\n",
              "      <td>18950</td>\n",
              "    </tr>\n",
              "    <tr>\n",
              "      <th>196</th>\n",
              "      <td>-1</td>\n",
              "      <td>95</td>\n",
              "      <td>volvo</td>\n",
              "      <td>gas</td>\n",
              "      <td>std</td>\n",
              "      <td>four</td>\n",
              "      <td>sedan</td>\n",
              "      <td>rwd</td>\n",
              "      <td>front</td>\n",
              "      <td>109.1</td>\n",
              "      <td>...</td>\n",
              "      <td>141</td>\n",
              "      <td>mpfi</td>\n",
              "      <td>3.78</td>\n",
              "      <td>3.15</td>\n",
              "      <td>9.5</td>\n",
              "      <td>114</td>\n",
              "      <td>5400</td>\n",
              "      <td>23</td>\n",
              "      <td>28</td>\n",
              "      <td>16845</td>\n",
              "    </tr>\n",
              "    <tr>\n",
              "      <th>197</th>\n",
              "      <td>-1</td>\n",
              "      <td>95</td>\n",
              "      <td>volvo</td>\n",
              "      <td>gas</td>\n",
              "      <td>turbo</td>\n",
              "      <td>four</td>\n",
              "      <td>sedan</td>\n",
              "      <td>rwd</td>\n",
              "      <td>front</td>\n",
              "      <td>109.1</td>\n",
              "      <td>...</td>\n",
              "      <td>141</td>\n",
              "      <td>mpfi</td>\n",
              "      <td>3.78</td>\n",
              "      <td>3.15</td>\n",
              "      <td>8.7</td>\n",
              "      <td>160</td>\n",
              "      <td>5300</td>\n",
              "      <td>19</td>\n",
              "      <td>25</td>\n",
              "      <td>19045</td>\n",
              "    </tr>\n",
              "    <tr>\n",
              "      <th>198</th>\n",
              "      <td>-1</td>\n",
              "      <td>95</td>\n",
              "      <td>volvo</td>\n",
              "      <td>gas</td>\n",
              "      <td>std</td>\n",
              "      <td>four</td>\n",
              "      <td>sedan</td>\n",
              "      <td>rwd</td>\n",
              "      <td>front</td>\n",
              "      <td>109.1</td>\n",
              "      <td>...</td>\n",
              "      <td>173</td>\n",
              "      <td>mpfi</td>\n",
              "      <td>3.58</td>\n",
              "      <td>2.87</td>\n",
              "      <td>8.8</td>\n",
              "      <td>134</td>\n",
              "      <td>5500</td>\n",
              "      <td>18</td>\n",
              "      <td>23</td>\n",
              "      <td>21485</td>\n",
              "    </tr>\n",
              "    <tr>\n",
              "      <th>199</th>\n",
              "      <td>-1</td>\n",
              "      <td>95</td>\n",
              "      <td>volvo</td>\n",
              "      <td>diesel</td>\n",
              "      <td>turbo</td>\n",
              "      <td>four</td>\n",
              "      <td>sedan</td>\n",
              "      <td>rwd</td>\n",
              "      <td>front</td>\n",
              "      <td>109.1</td>\n",
              "      <td>...</td>\n",
              "      <td>145</td>\n",
              "      <td>idi</td>\n",
              "      <td>3.01</td>\n",
              "      <td>3.40</td>\n",
              "      <td>23.0</td>\n",
              "      <td>106</td>\n",
              "      <td>4800</td>\n",
              "      <td>26</td>\n",
              "      <td>27</td>\n",
              "      <td>22470</td>\n",
              "    </tr>\n",
              "    <tr>\n",
              "      <th>200</th>\n",
              "      <td>-1</td>\n",
              "      <td>95</td>\n",
              "      <td>volvo</td>\n",
              "      <td>gas</td>\n",
              "      <td>turbo</td>\n",
              "      <td>four</td>\n",
              "      <td>sedan</td>\n",
              "      <td>rwd</td>\n",
              "      <td>front</td>\n",
              "      <td>109.1</td>\n",
              "      <td>...</td>\n",
              "      <td>141</td>\n",
              "      <td>mpfi</td>\n",
              "      <td>3.78</td>\n",
              "      <td>3.15</td>\n",
              "      <td>9.5</td>\n",
              "      <td>114</td>\n",
              "      <td>5400</td>\n",
              "      <td>19</td>\n",
              "      <td>25</td>\n",
              "      <td>22625</td>\n",
              "    </tr>\n",
              "  </tbody>\n",
              "</table>\n",
              "<p>6 rows × 26 columns</p>\n",
              "</div>"
            ],
            "text/plain": [
              "     symboling  normalized_losses   make fuel_type aspiration number_of_doors  \\\n",
              "195         -1                 74  volvo       gas      turbo            four   \n",
              "196         -1                 95  volvo       gas        std            four   \n",
              "197         -1                 95  volvo       gas      turbo            four   \n",
              "198         -1                 95  volvo       gas        std            four   \n",
              "199         -1                 95  volvo    diesel      turbo            four   \n",
              "200         -1                 95  volvo       gas      turbo            four   \n",
              "\n",
              "    body_style drive_wheels engine_location  wheel_base  ...  engine_size  \\\n",
              "195      wagon          rwd           front       104.3  ...          130   \n",
              "196      sedan          rwd           front       109.1  ...          141   \n",
              "197      sedan          rwd           front       109.1  ...          141   \n",
              "198      sedan          rwd           front       109.1  ...          173   \n",
              "199      sedan          rwd           front       109.1  ...          145   \n",
              "200      sedan          rwd           front       109.1  ...          141   \n",
              "\n",
              "     fuel_system  bore  stroke compression_ratio horsepower  peak_rpm  \\\n",
              "195         mpfi  3.62    3.15               7.5        162      5100   \n",
              "196         mpfi  3.78    3.15               9.5        114      5400   \n",
              "197         mpfi  3.78    3.15               8.7        160      5300   \n",
              "198         mpfi  3.58    2.87               8.8        134      5500   \n",
              "199          idi  3.01    3.40              23.0        106      4800   \n",
              "200         mpfi  3.78    3.15               9.5        114      5400   \n",
              "\n",
              "    city_mpg  highway_mpg  price  \n",
              "195       17           22  18950  \n",
              "196       23           28  16845  \n",
              "197       19           25  19045  \n",
              "198       18           23  21485  \n",
              "199       26           27  22470  \n",
              "200       19           25  22625  \n",
              "\n",
              "[6 rows x 26 columns]"
            ]
          },
          "execution_count": 2,
          "metadata": {},
          "output_type": "execute_result"
        }
      ],
      "source": [
        "df.tail(6)"
      ]
    },
    {
      "cell_type": "code",
      "execution_count": null,
      "id": "638f4944",
      "metadata": {
        "id": "638f4944",
        "outputId": "c3f4592c-55db-4e94-882b-47c6ba5e62af"
      },
      "outputs": [
        {
          "name": "stdout",
          "output_type": "stream",
          "text": [
            "No of Rows: 201\n"
          ]
        }
      ],
      "source": [
        "print(\"No of Rows:\", df.shape[0])"
      ]
    },
    {
      "cell_type": "code",
      "execution_count": null,
      "id": "bba0031b",
      "metadata": {
        "id": "bba0031b",
        "outputId": "73e0639f-a85f-4c77-ee0a-30c9bcf7a7a7"
      },
      "outputs": [
        {
          "data": {
            "text/plain": [
              "(201, 26)"
            ]
          },
          "execution_count": 3,
          "metadata": {},
          "output_type": "execute_result"
        }
      ],
      "source": [
        "df.shape"
      ]
    },
    {
      "cell_type": "code",
      "execution_count": null,
      "id": "1fdb7293",
      "metadata": {
        "id": "1fdb7293",
        "outputId": "e7e5301b-4104-475a-ea4d-de8b806e9b81"
      },
      "outputs": [
        {
          "data": {
            "text/plain": [
              "26"
            ]
          },
          "execution_count": 73,
          "metadata": {},
          "output_type": "execute_result"
        }
      ],
      "source": [
        "df.shape[1]"
      ]
    },
    {
      "cell_type": "code",
      "execution_count": null,
      "id": "6dc2150c",
      "metadata": {
        "id": "6dc2150c",
        "outputId": "43e19c72-01b7-4c1c-eb80-1ec22048bc92"
      },
      "outputs": [
        {
          "name": "stdout",
          "output_type": "stream",
          "text": [
            "<class 'pandas.core.frame.DataFrame'>\n",
            "RangeIndex: 201 entries, 0 to 200\n",
            "Data columns (total 26 columns):\n",
            " #   Column               Non-Null Count  Dtype  \n",
            "---  ------               --------------  -----  \n",
            " 0   symboling            201 non-null    int64  \n",
            " 1   normalized_losses    201 non-null    int64  \n",
            " 2   make                 201 non-null    object \n",
            " 3   fuel_type            201 non-null    object \n",
            " 4   aspiration           201 non-null    object \n",
            " 5   number_of_doors      201 non-null    object \n",
            " 6   body_style           201 non-null    object \n",
            " 7   drive_wheels         201 non-null    object \n",
            " 8   engine_location      201 non-null    object \n",
            " 9   wheel_base           201 non-null    float64\n",
            " 10  length               201 non-null    float64\n",
            " 11  width                201 non-null    float64\n",
            " 12  height               201 non-null    float64\n",
            " 13  curb_weight          201 non-null    int64  \n",
            " 14  engine_type          201 non-null    object \n",
            " 15  number_of_cylinders  201 non-null    object \n",
            " 16  engine_size          201 non-null    int64  \n",
            " 17  fuel_system          201 non-null    object \n",
            " 18  bore                 201 non-null    float64\n",
            " 19  stroke               201 non-null    float64\n",
            " 20  compression_ratio    201 non-null    float64\n",
            " 21  horsepower           201 non-null    int64  \n",
            " 22  peak_rpm             201 non-null    int64  \n",
            " 23  city_mpg             201 non-null    int64  \n",
            " 24  highway_mpg          201 non-null    int64  \n",
            " 25  price                201 non-null    int64  \n",
            "dtypes: float64(7), int64(9), object(10)\n",
            "memory usage: 41.0+ KB\n"
          ]
        }
      ],
      "source": [
        "df.info()"
      ]
    },
    {
      "cell_type": "code",
      "execution_count": null,
      "id": "f96c79ee",
      "metadata": {
        "scrolled": false,
        "id": "f96c79ee",
        "outputId": "0d5b5a3c-8afb-4591-a300-f9dab58eff71"
      },
      "outputs": [
        {
          "data": {
            "text/plain": [
              "symboling              0\n",
              "normalized_losses      0\n",
              "make                   0\n",
              "fuel_type              0\n",
              "aspiration             0\n",
              "number_of_doors        0\n",
              "body_style             0\n",
              "drive_wheels           0\n",
              "engine_location        0\n",
              "wheel_base             0\n",
              "length                 0\n",
              "width                  0\n",
              "height                 0\n",
              "curb_weight            0\n",
              "engine_type            0\n",
              "number_of_cylinders    0\n",
              "engine_size            0\n",
              "fuel_system            0\n",
              "bore                   0\n",
              "stroke                 0\n",
              "compression_ratio      0\n",
              "horsepower             0\n",
              "peak_rpm               0\n",
              "city_mpg               0\n",
              "highway_mpg            0\n",
              "price                  0\n",
              "dtype: int64"
            ]
          },
          "execution_count": 85,
          "metadata": {},
          "output_type": "execute_result"
        }
      ],
      "source": [
        "df.isnull().sum()"
      ]
    },
    {
      "cell_type": "code",
      "execution_count": null,
      "id": "0c0333b2",
      "metadata": {
        "id": "0c0333b2",
        "outputId": "87106a1d-eda3-477c-f91f-6fe43307fc32"
      },
      "outputs": [
        {
          "data": {
            "text/plain": [
              "array(['mpfi', '2bbl', 'mfi', '1bbl', 'spfi', '4bbl', 'idi', 'spdi'],\n",
              "      dtype=object)"
            ]
          },
          "execution_count": 4,
          "metadata": {},
          "output_type": "execute_result"
        }
      ],
      "source": [
        "df[\"fuel_system\"].unique()"
      ]
    },
    {
      "cell_type": "code",
      "execution_count": null,
      "id": "8dd91a62",
      "metadata": {
        "id": "8dd91a62",
        "outputId": "de178f90-471e-4913-846e-fd3be3306013"
      },
      "outputs": [
        {
          "data": {
            "text/plain": [
              "['ArrowDtype',\n",
              " 'BooleanDtype',\n",
              " 'Categorical',\n",
              " 'CategoricalDtype',\n",
              " 'CategoricalIndex',\n",
              " 'DataFrame',\n",
              " 'DateOffset',\n",
              " 'DatetimeIndex',\n",
              " 'DatetimeTZDtype',\n",
              " 'ExcelFile',\n",
              " 'ExcelWriter',\n",
              " 'Flags',\n",
              " 'Float32Dtype',\n",
              " 'Float64Dtype',\n",
              " 'Grouper',\n",
              " 'HDFStore',\n",
              " 'Index',\n",
              " 'IndexSlice',\n",
              " 'Int16Dtype',\n",
              " 'Int32Dtype',\n",
              " 'Int64Dtype',\n",
              " 'Int8Dtype',\n",
              " 'Interval',\n",
              " 'IntervalDtype',\n",
              " 'IntervalIndex',\n",
              " 'MultiIndex',\n",
              " 'NA',\n",
              " 'NaT',\n",
              " 'NamedAgg',\n",
              " 'Period',\n",
              " 'PeriodDtype',\n",
              " 'PeriodIndex',\n",
              " 'RangeIndex',\n",
              " 'Series',\n",
              " 'SparseDtype',\n",
              " 'StringDtype',\n",
              " 'Timedelta',\n",
              " 'TimedeltaIndex',\n",
              " 'Timestamp',\n",
              " 'UInt16Dtype',\n",
              " 'UInt32Dtype',\n",
              " 'UInt64Dtype',\n",
              " 'UInt8Dtype',\n",
              " '__all__',\n",
              " '__builtins__',\n",
              " '__cached__',\n",
              " '__doc__',\n",
              " '__docformat__',\n",
              " '__file__',\n",
              " '__git_version__',\n",
              " '__loader__',\n",
              " '__name__',\n",
              " '__package__',\n",
              " '__path__',\n",
              " '__spec__',\n",
              " '__version__',\n",
              " '_config',\n",
              " '_is_numpy_dev',\n",
              " '_libs',\n",
              " '_testing',\n",
              " '_typing',\n",
              " '_version',\n",
              " 'annotations',\n",
              " 'api',\n",
              " 'array',\n",
              " 'arrays',\n",
              " 'bdate_range',\n",
              " 'compat',\n",
              " 'concat',\n",
              " 'core',\n",
              " 'crosstab',\n",
              " 'cut',\n",
              " 'date_range',\n",
              " 'describe_option',\n",
              " 'errors',\n",
              " 'eval',\n",
              " 'factorize',\n",
              " 'from_dummies',\n",
              " 'get_dummies',\n",
              " 'get_option',\n",
              " 'infer_freq',\n",
              " 'interval_range',\n",
              " 'io',\n",
              " 'isna',\n",
              " 'isnull',\n",
              " 'json_normalize',\n",
              " 'lreshape',\n",
              " 'melt',\n",
              " 'merge',\n",
              " 'merge_asof',\n",
              " 'merge_ordered',\n",
              " 'notna',\n",
              " 'notnull',\n",
              " 'offsets',\n",
              " 'option_context',\n",
              " 'options',\n",
              " 'pandas',\n",
              " 'period_range',\n",
              " 'pivot',\n",
              " 'pivot_table',\n",
              " 'plotting',\n",
              " 'qcut',\n",
              " 'read_clipboard',\n",
              " 'read_csv',\n",
              " 'read_excel',\n",
              " 'read_feather',\n",
              " 'read_fwf',\n",
              " 'read_gbq',\n",
              " 'read_hdf',\n",
              " 'read_html',\n",
              " 'read_json',\n",
              " 'read_orc',\n",
              " 'read_parquet',\n",
              " 'read_pickle',\n",
              " 'read_sas',\n",
              " 'read_spss',\n",
              " 'read_sql',\n",
              " 'read_sql_query',\n",
              " 'read_sql_table',\n",
              " 'read_stata',\n",
              " 'read_table',\n",
              " 'read_xml',\n",
              " 'reset_option',\n",
              " 'set_eng_float_format',\n",
              " 'set_option',\n",
              " 'show_versions',\n",
              " 'test',\n",
              " 'testing',\n",
              " 'timedelta_range',\n",
              " 'to_datetime',\n",
              " 'to_numeric',\n",
              " 'to_pickle',\n",
              " 'to_timedelta',\n",
              " 'tseries',\n",
              " 'unique',\n",
              " 'util',\n",
              " 'value_counts',\n",
              " 'wide_to_long']"
            ]
          },
          "execution_count": 20,
          "metadata": {},
          "output_type": "execute_result"
        }
      ],
      "source": [
        "dir(pd)"
      ]
    },
    {
      "cell_type": "code",
      "execution_count": null,
      "id": "e9cb7435",
      "metadata": {
        "id": "e9cb7435",
        "outputId": "a151385c-2b81-4365-e7ad-901e1a5bc9b0"
      },
      "outputs": [
        {
          "data": {
            "text/html": [
              "<div>\n",
              "<style scoped>\n",
              "    .dataframe tbody tr th:only-of-type {\n",
              "        vertical-align: middle;\n",
              "    }\n",
              "\n",
              "    .dataframe tbody tr th {\n",
              "        vertical-align: top;\n",
              "    }\n",
              "\n",
              "    .dataframe thead th {\n",
              "        text-align: right;\n",
              "    }\n",
              "</style>\n",
              "<table border=\"1\" class=\"dataframe\">\n",
              "  <thead>\n",
              "    <tr style=\"text-align: right;\">\n",
              "      <th></th>\n",
              "      <th>bore</th>\n",
              "      <th>stroke</th>\n",
              "    </tr>\n",
              "  </thead>\n",
              "  <tbody>\n",
              "    <tr>\n",
              "      <th>0</th>\n",
              "      <td>3.47</td>\n",
              "      <td>2.68</td>\n",
              "    </tr>\n",
              "    <tr>\n",
              "      <th>1</th>\n",
              "      <td>3.47</td>\n",
              "      <td>2.68</td>\n",
              "    </tr>\n",
              "    <tr>\n",
              "      <th>2</th>\n",
              "      <td>2.68</td>\n",
              "      <td>3.47</td>\n",
              "    </tr>\n",
              "    <tr>\n",
              "      <th>3</th>\n",
              "      <td>3.19</td>\n",
              "      <td>3.40</td>\n",
              "    </tr>\n",
              "    <tr>\n",
              "      <th>4</th>\n",
              "      <td>3.19</td>\n",
              "      <td>3.40</td>\n",
              "    </tr>\n",
              "    <tr>\n",
              "      <th>5</th>\n",
              "      <td>3.19</td>\n",
              "      <td>3.40</td>\n",
              "    </tr>\n",
              "  </tbody>\n",
              "</table>\n",
              "</div>"
            ],
            "text/plain": [
              "   bore  stroke\n",
              "0  3.47    2.68\n",
              "1  3.47    2.68\n",
              "2  2.68    3.47\n",
              "3  3.19    3.40\n",
              "4  3.19    3.40\n",
              "5  3.19    3.40"
            ]
          },
          "execution_count": 5,
          "metadata": {},
          "output_type": "execute_result"
        }
      ],
      "source": [
        "df.loc[0:5,\"bore\":\"stroke\"]"
      ]
    },
    {
      "cell_type": "code",
      "execution_count": null,
      "id": "9aa2cc3f",
      "metadata": {
        "id": "9aa2cc3f",
        "outputId": "874792d8-4781-469b-f9f2-836183ab0f52"
      },
      "outputs": [
        {
          "data": {
            "text/html": [
              "<div>\n",
              "<style scoped>\n",
              "    .dataframe tbody tr th:only-of-type {\n",
              "        vertical-align: middle;\n",
              "    }\n",
              "\n",
              "    .dataframe tbody tr th {\n",
              "        vertical-align: top;\n",
              "    }\n",
              "\n",
              "    .dataframe thead th {\n",
              "        text-align: right;\n",
              "    }\n",
              "</style>\n",
              "<table border=\"1\" class=\"dataframe\">\n",
              "  <thead>\n",
              "    <tr style=\"text-align: right;\">\n",
              "      <th></th>\n",
              "      <th>bore</th>\n",
              "      <th>stroke</th>\n",
              "    </tr>\n",
              "  </thead>\n",
              "  <tbody>\n",
              "    <tr>\n",
              "      <th>0</th>\n",
              "      <td>3.47</td>\n",
              "      <td>2.68</td>\n",
              "    </tr>\n",
              "    <tr>\n",
              "      <th>1</th>\n",
              "      <td>3.47</td>\n",
              "      <td>2.68</td>\n",
              "    </tr>\n",
              "    <tr>\n",
              "      <th>2</th>\n",
              "      <td>2.68</td>\n",
              "      <td>3.47</td>\n",
              "    </tr>\n",
              "    <tr>\n",
              "      <th>3</th>\n",
              "      <td>3.19</td>\n",
              "      <td>3.40</td>\n",
              "    </tr>\n",
              "    <tr>\n",
              "      <th>4</th>\n",
              "      <td>3.19</td>\n",
              "      <td>3.40</td>\n",
              "    </tr>\n",
              "  </tbody>\n",
              "</table>\n",
              "</div>"
            ],
            "text/plain": [
              "   bore  stroke\n",
              "0  3.47    2.68\n",
              "1  3.47    2.68\n",
              "2  2.68    3.47\n",
              "3  3.19    3.40\n",
              "4  3.19    3.40"
            ]
          },
          "execution_count": 7,
          "metadata": {},
          "output_type": "execute_result"
        }
      ],
      "source": [
        "df.iloc[0:5,-8:-6]"
      ]
    },
    {
      "cell_type": "code",
      "execution_count": null,
      "id": "e34d3430",
      "metadata": {
        "id": "e34d3430",
        "outputId": "53c94964-a6ce-4572-d047-e9792c55b42b",
        "colab": {
          "base_uri": "https://localhost:8080/"
        }
      },
      "outputs": [
        {
          "output_type": "execute_result",
          "data": {
            "text/plain": [
              "Index(['symboling', 'normalized_losses', 'make', 'fuel_type', 'aspiration',\n",
              "       'number_of_doors', 'body_style', 'drive_wheels', 'engine_location',\n",
              "       'wheel_base', 'length', 'width', 'height', 'curb_weight', 'engine_type',\n",
              "       'number_of_cylinders', 'engine_size', 'fuel_system', 'bore', 'stroke',\n",
              "       'compression_ratio', 'horsepower', 'peak_rpm', 'city_mpg',\n",
              "       'highway_mpg', 'price'],\n",
              "      dtype='object')"
            ]
          },
          "metadata": {},
          "execution_count": 14
        }
      ],
      "source": [
        "df.columns"
      ]
    },
    {
      "cell_type": "code",
      "execution_count": null,
      "id": "10676ae7",
      "metadata": {
        "id": "10676ae7",
        "outputId": "5e702aac-fd35-4ccf-f2cc-a3911d37b891"
      },
      "outputs": [
        {
          "data": {
            "text/plain": [
              "25.17910447761194"
            ]
          },
          "execution_count": 37,
          "metadata": {},
          "output_type": "execute_result"
        }
      ],
      "source": [
        "df['city_mpg'].mean()#for finding the average"
      ]
    },
    {
      "cell_type": "code",
      "execution_count": null,
      "id": "2a262d46",
      "metadata": {
        "scrolled": true,
        "id": "2a262d46",
        "outputId": "76350143-8712-4c04-af28-cd697ebaff71"
      },
      "outputs": [
        {
          "data": {
            "text/plain": [
              "'0        alfa-romero\\n1        alfa-romero\\n2        alfa-romero\\n3               audi\\n4               audi\\n5               audi\\n6               audi\\n7               audi\\n8               audi\\n9                bmw\\n10               bmw\\n11               bmw\\n12               bmw\\n13               bmw\\n14               bmw\\n15               bmw\\n16               bmw\\n17         chevrolet\\n18         chevrolet\\n19         chevrolet\\n20             dodge\\n21             dodge\\n22             dodge\\n23             dodge\\n24             dodge\\n25             dodge\\n26             dodge\\n27             dodge\\n28             dodge\\n29             honda\\n30             honda\\n31             honda\\n32             honda\\n33             honda\\n34             honda\\n35             honda\\n36             honda\\n37             honda\\n38             honda\\n39             honda\\n40             honda\\n41             honda\\n42             isuzu\\n43             isuzu\\n44            jaguar\\n45            jaguar\\n46            jaguar\\n47             mazda\\n48             mazda\\n49             mazda\\n50             mazda\\n51             mazda\\n52             mazda\\n53             mazda\\n54             mazda\\n55             mazda\\n56             mazda\\n57             mazda\\n58             mazda\\n59             mazda\\n60             mazda\\n61             mazda\\n62             mazda\\n63             mazda\\n64     mercedes-benz\\n65     mercedes-benz\\n66     mercedes-benz\\n67     mercedes-benz\\n68     mercedes-benz\\n69     mercedes-benz\\n70     mercedes-benz\\n71     mercedes-benz\\n72           mercury\\n73        mitsubishi\\n74        mitsubishi\\n75        mitsubishi\\n76        mitsubishi\\n77        mitsubishi\\n78        mitsubishi\\n79        mitsubishi\\n80        mitsubishi\\n81        mitsubishi\\n82        mitsubishi\\n83        mitsubishi\\n84        mitsubishi\\n85        mitsubishi\\n86            nissan\\n87            nissan\\n88            nissan\\n89            nissan\\n90            nissan\\n91            nissan\\n92            nissan\\n93            nissan\\n94            nissan\\n95            nissan\\n96            nissan\\n97            nissan\\n98            nissan\\n99            nissan\\n100           nissan\\n101           nissan\\n102           nissan\\n103           nissan\\n104           peugot\\n105           peugot\\n106           peugot\\n107           peugot\\n108           peugot\\n109           peugot\\n110           peugot\\n111           peugot\\n112           peugot\\n113           peugot\\n114           peugot\\n115         plymouth\\n116         plymouth\\n117         plymouth\\n118         plymouth\\n119         plymouth\\n120         plymouth\\n121         plymouth\\n122          porsche\\n123          porsche\\n124          porsche\\n125          porsche\\n126          renault\\n127          renault\\n128             saab\\n129             saab\\n130             saab\\n131             saab\\n132             saab\\n133             saab\\n134           subaru\\n135           subaru\\n136           subaru\\n137           subaru\\n138           subaru\\n139           subaru\\n140           subaru\\n141           subaru\\n142           subaru\\n143           subaru\\n144           subaru\\n145           subaru\\n146           toyota\\n147           toyota\\n148           toyota\\n149           toyota\\n150           toyota\\n151           toyota\\n152           toyota\\n153           toyota\\n154           toyota\\n155           toyota\\n156           toyota\\n157           toyota\\n158           toyota\\n159           toyota\\n160           toyota\\n161           toyota\\n162           toyota\\n163           toyota\\n164           toyota\\n165           toyota\\n166           toyota\\n167           toyota\\n168           toyota\\n169           toyota\\n170           toyota\\n171           toyota\\n172           toyota\\n173           toyota\\n174           toyota\\n175           toyota\\n176           toyota\\n177           toyota\\n178       volkswagen\\n179       volkswagen\\n180       volkswagen\\n181       volkswagen\\n182       volkswagen\\n183       volkswagen\\n184       volkswagen\\n185       volkswagen\\n186       volkswagen\\n187       volkswagen\\n188       volkswagen\\n189       volkswagen\\n190            volvo\\n191            volvo\\n192            volvo\\n193            volvo\\n194            volvo\\n195            volvo\\n196            volvo\\n197            volvo\\n198            volvo\\n199            volvo\\n200            volvo'"
            ]
          },
          "execution_count": 87,
          "metadata": {},
          "output_type": "execute_result"
        }
      ],
      "source": [
        "df['make'].to_string()"
      ]
    },
    {
      "cell_type": "code",
      "execution_count": null,
      "id": "c6c2ea1c",
      "metadata": {
        "id": "c6c2ea1c",
        "outputId": "d53c37e7-0a2e-4449-e243-bb317d95b47f"
      },
      "outputs": [
        {
          "data": {
            "text/plain": [
              "'volvo'"
            ]
          },
          "execution_count": 40,
          "metadata": {},
          "output_type": "execute_result"
        }
      ],
      "source": [
        "df['make'].max()"
      ]
    },
    {
      "cell_type": "code",
      "execution_count": null,
      "id": "4abbf293",
      "metadata": {
        "id": "4abbf293",
        "outputId": "c451235c-e27d-4031-f191-f49b65c87204"
      },
      "outputs": [
        {
          "data": {
            "text/plain": [
              "'alfa-romero'"
            ]
          },
          "execution_count": 42,
          "metadata": {},
          "output_type": "execute_result"
        }
      ],
      "source": [
        "df['make'].min()"
      ]
    },
    {
      "cell_type": "code",
      "execution_count": null,
      "id": "d72e819d",
      "metadata": {
        "id": "d72e819d",
        "outputId": "149fc03e-6c65-4605-892d-36324c99143c"
      },
      "outputs": [
        {
          "data": {
            "text/plain": [
              "'0       two\\n1       two\\n2       two\\n3      four\\n4      four\\n5       two\\n6      four\\n7      four\\n8      four\\n9       two\\n10     four\\n11      two\\n12     four\\n13     four\\n14     four\\n15      two\\n16     four\\n17      two\\n18      two\\n19     four\\n20      two\\n21      two\\n22      two\\n23     four\\n24     four\\n25     four\\n26      two\\n27     four\\n28      two\\n29      two\\n30      two\\n31      two\\n32      two\\n33      two\\n34     four\\n35     four\\n36      two\\n37      two\\n38     four\\n39     four\\n40     four\\n41      two\\n42     four\\n43      two\\n44     four\\n45     four\\n46      two\\n47      two\\n48      two\\n49      two\\n50     four\\n51     four\\n52      two\\n53      two\\n54      two\\n55      two\\n56      two\\n57     four\\n58      two\\n59     four\\n60     four\\n61     four\\n62     four\\n63     four\\n64     four\\n65     four\\n66      two\\n67     four\\n68     four\\n69      two\\n70     four\\n71      two\\n72      two\\n73      two\\n74      two\\n75      two\\n76      two\\n77      two\\n78      two\\n79      two\\n80      two\\n81      two\\n82     four\\n83     four\\n84     four\\n85     four\\n86      two\\n87      two\\n88      two\\n89     four\\n90     four\\n91      two\\n92      two\\n93     four\\n94     four\\n95      two\\n96     four\\n97     four\\n98     four\\n99     four\\n100    four\\n101     two\\n102     two\\n103     two\\n104    four\\n105    four\\n106    four\\n107    four\\n108    four\\n109    four\\n110    four\\n111    four\\n112    four\\n113    four\\n114    four\\n115     two\\n116     two\\n117    four\\n118    four\\n119    four\\n120    four\\n121     two\\n122     two\\n123     two\\n124     two\\n125     two\\n126    four\\n127     two\\n128     two\\n129    four\\n130     two\\n131    four\\n132     two\\n133    four\\n134     two\\n135     two\\n136     two\\n137    four\\n138    four\\n139    four\\n140    four\\n141    four\\n142    four\\n143    four\\n144    four\\n145    four\\n146     two\\n147     two\\n148    four\\n149    four\\n150    four\\n151    four\\n152    four\\n153    four\\n154    four\\n155    four\\n156    four\\n157    four\\n158    four\\n159     two\\n160     two\\n161     two\\n162     two\\n163     two\\n164     two\\n165     two\\n166     two\\n167     two\\n168     two\\n169    four\\n170    four\\n171    four\\n172    four\\n173    four\\n174     two\\n175     two\\n176    four\\n177    four\\n178     two\\n179     two\\n180    four\\n181    four\\n182    four\\n183    four\\n184    four\\n185     two\\n186     two\\n187    four\\n188    four\\n189    four\\n190    four\\n191    four\\n192    four\\n193    four\\n194    four\\n195    four\\n196    four\\n197    four\\n198    four\\n199    four\\n200    four'"
            ]
          },
          "execution_count": 47,
          "metadata": {},
          "output_type": "execute_result"
        }
      ],
      "source": [
        "df['number_of_doors'].to_string()"
      ]
    },
    {
      "cell_type": "code",
      "execution_count": null,
      "id": "4be7fe2d",
      "metadata": {
        "id": "4be7fe2d",
        "outputId": "7885dc42-a33a-4f4d-b2d3-ed253ad3886a"
      },
      "outputs": [
        {
          "name": "stdout",
          "output_type": "stream",
          "text": [
            "5118,45400\n"
          ]
        },
        {
          "data": {
            "text/plain": [
              "5118"
            ]
          },
          "execution_count": 25,
          "metadata": {},
          "output_type": "execute_result"
        }
      ],
      "source": [
        "min=df['price'].min()\n",
        "max=df['price'].max()\n",
        "print(min,max,sep=\",\")\n",
        "df['price']\n",
        "df.loc[0:200,\"price\"].min()"
      ]
    },
    {
      "cell_type": "code",
      "execution_count": null,
      "id": "4a0bf0e1",
      "metadata": {
        "id": "4a0bf0e1",
        "outputId": "159c8c60-99b8-4438-f68c-2f44bd723c84"
      },
      "outputs": [
        {
          "data": {
            "text/plain": [
              "0      13495\n",
              "1      16500\n",
              "2      16500\n",
              "3      13950\n",
              "4      17450\n",
              "       ...  \n",
              "196    16845\n",
              "197    19045\n",
              "198    21485\n",
              "199    22470\n",
              "200    22625\n",
              "Name: price, Length: 201, dtype: int64"
            ]
          },
          "execution_count": 89,
          "metadata": {},
          "output_type": "execute_result"
        }
      ],
      "source": [
        "df['price']"
      ]
    },
    {
      "cell_type": "markdown",
      "id": "563c5698",
      "metadata": {
        "id": "563c5698"
      },
      "source": [
        "write Python code to:\n",
        "•\tLoad the CSV file into a Pandas DataFrame.\n",
        "•\tDisplay the first 30 rows.\n",
        "•\tPrint column names.\n",
        "•\tPrint No of Rows & Columns\n",
        "•\tFind the Data Types of every column & check if there are any mismatch\n",
        "•\tWhat are the minimum & maximum price of the car & state fuel type they belong to\n",
        "•\tList all the unique engine types\n",
        "•\tFind the horsepower range\n",
        "•\tWhat is the average mpg in cities & highway. Which is better?\n",
        "•\tWhat are the different Automobile makes present & which has maximum count"
      ]
    },
    {
      "cell_type": "code",
      "execution_count": null,
      "id": "b5e37647",
      "metadata": {
        "id": "b5e37647"
      },
      "outputs": [],
      "source": [
        "c=df['price'].min()"
      ]
    },
    {
      "cell_type": "code",
      "execution_count": null,
      "id": "e12a782c",
      "metadata": {
        "colab": {
          "base_uri": "https://localhost:8080/"
        },
        "id": "e12a782c",
        "outputId": "d95aa5cc-15db-49d5-af4d-b32256b425e1"
      },
      "outputs": [
        {
          "output_type": "stream",
          "name": "stdout",
          "text": [
            "5118 45400\n"
          ]
        }
      ],
      "source": [
        "v=df['price'].max()\n",
        "print(c,v)"
      ]
    },
    {
      "cell_type": "code",
      "execution_count": null,
      "id": "44e2efa2",
      "metadata": {
        "id": "44e2efa2",
        "outputId": "e319d51b-5e6d-4b06-8768-1223f55a6fa1"
      },
      "outputs": [
        {
          "name": "stdout",
          "output_type": "stream",
          "text": [
            "134    gas\n",
            "Name: fuel_type, dtype: object 71    gas\n",
            "Name: fuel_type, dtype: object\n"
          ]
        }
      ],
      "source": [
        "f = df[df[\"price\"] == c][\"fuel_type\"]\n",
        "f2 = df[df[\"price\"] == v][\"fuel_type\"]\n",
        "print(f,f2)\n",
        "#fuel_type"
      ]
    },
    {
      "cell_type": "code",
      "execution_count": null,
      "id": "17a8e891",
      "metadata": {
        "id": "17a8e891"
      },
      "outputs": [],
      "source": [
        "[\"fuel_type\"].values"
      ]
    },
    {
      "cell_type": "code",
      "execution_count": null,
      "id": "8b6142b6",
      "metadata": {
        "id": "8b6142b6",
        "outputId": "b8a30274-dde9-46b2-8d83-3fea9dfbb560"
      },
      "outputs": [
        {
          "data": {
            "text/plain": [
              "array(['gas', 'gas', 'gas', 'gas', 'gas', 'gas', 'gas', 'gas', 'gas',\n",
              "       'gas', 'gas', 'gas', 'gas', 'gas', 'gas', 'gas', 'gas', 'gas',\n",
              "       'gas', 'gas', 'gas', 'gas', 'gas', 'gas', 'gas', 'gas', 'gas',\n",
              "       'gas', 'gas', 'gas', 'gas', 'gas', 'gas', 'gas', 'gas', 'gas',\n",
              "       'gas', 'gas', 'gas', 'gas', 'gas', 'gas', 'gas', 'gas', 'gas',\n",
              "       'gas', 'gas', 'gas', 'gas', 'gas', 'gas', 'gas', 'gas', 'gas',\n",
              "       'gas', 'gas', 'gas', 'gas', 'gas', 'gas', 'diesel', 'gas', 'gas',\n",
              "       'diesel', 'diesel', 'diesel', 'diesel', 'diesel', 'gas', 'gas',\n",
              "       'gas', 'gas', 'gas', 'gas', 'gas', 'gas', 'gas', 'gas', 'gas',\n",
              "       'gas', 'gas', 'gas', 'gas', 'gas', 'gas', 'gas', 'gas', 'diesel',\n",
              "       'gas', 'gas', 'gas', 'gas', 'gas', 'gas', 'gas', 'gas', 'gas',\n",
              "       'gas', 'gas', 'gas', 'gas', 'gas', 'gas', 'gas', 'gas', 'diesel',\n",
              "       'gas', 'diesel', 'gas', 'diesel', 'gas', 'diesel', 'gas', 'diesel',\n",
              "       'gas', 'gas', 'gas', 'gas', 'gas', 'gas', 'gas', 'gas', 'gas',\n",
              "       'gas', 'gas', 'gas', 'gas', 'gas', 'gas', 'gas', 'gas', 'gas',\n",
              "       'gas', 'gas', 'gas', 'gas', 'gas', 'gas', 'gas', 'gas', 'gas',\n",
              "       'gas', 'gas', 'gas', 'gas', 'gas', 'gas', 'gas', 'gas', 'gas',\n",
              "       'gas', 'gas', 'gas', 'gas', 'diesel', 'diesel', 'gas', 'gas',\n",
              "       'gas', 'gas', 'gas', 'gas', 'gas', 'gas', 'gas', 'gas', 'gas',\n",
              "       'gas', 'gas', 'gas', 'diesel', 'gas', 'gas', 'gas', 'gas', 'gas',\n",
              "       'gas', 'gas', 'diesel', 'gas', 'diesel', 'gas', 'gas', 'diesel',\n",
              "       'gas', 'gas', 'gas', 'gas', 'diesel', 'gas', 'gas', 'gas', 'gas',\n",
              "       'gas', 'gas', 'gas', 'gas', 'gas', 'gas', 'diesel', 'gas'],\n",
              "      dtype=object)"
            ]
          },
          "execution_count": 18,
          "metadata": {},
          "output_type": "execute_result"
        }
      ],
      "source": [
        "df[\"fuel_type\"].values"
      ]
    },
    {
      "cell_type": "code",
      "execution_count": null,
      "id": "5452e187",
      "metadata": {
        "id": "5452e187",
        "outputId": "e440801f-c9f6-44a7-f5aa-8c40f251be31"
      },
      "outputs": [
        {
          "data": {
            "text/plain": [
              "0         gas\n",
              "1         gas\n",
              "2         gas\n",
              "3         gas\n",
              "4         gas\n",
              "        ...  \n",
              "196       gas\n",
              "197       gas\n",
              "198       gas\n",
              "199    diesel\n",
              "200       gas\n",
              "Name: fuel_type, Length: 201, dtype: object"
            ]
          },
          "execution_count": 10,
          "metadata": {},
          "output_type": "execute_result"
        }
      ],
      "source": [
        "df['fuel_type']"
      ]
    },
    {
      "cell_type": "code",
      "execution_count": null,
      "id": "092807b6",
      "metadata": {
        "id": "092807b6"
      },
      "outputs": [],
      "source": []
    },
    {
      "cell_type": "code",
      "execution_count": null,
      "id": "fbff811f",
      "metadata": {
        "colab": {
          "base_uri": "https://localhost:8080/",
          "height": 81
        },
        "id": "fbff811f",
        "outputId": "88098577-53da-4048-d211-f2be4ce58f71"
      },
      "outputs": [
        {
          "output_type": "execute_result",
          "data": {
            "text/plain": [
              "     price fuel_type\n",
              "134   5118       gas"
            ],
            "text/html": [
              "\n",
              "  <div id=\"df-f9944701-cdb7-49a9-aa34-41c09c48710b\" class=\"colab-df-container\">\n",
              "    <div>\n",
              "<style scoped>\n",
              "    .dataframe tbody tr th:only-of-type {\n",
              "        vertical-align: middle;\n",
              "    }\n",
              "\n",
              "    .dataframe tbody tr th {\n",
              "        vertical-align: top;\n",
              "    }\n",
              "\n",
              "    .dataframe thead th {\n",
              "        text-align: right;\n",
              "    }\n",
              "</style>\n",
              "<table border=\"1\" class=\"dataframe\">\n",
              "  <thead>\n",
              "    <tr style=\"text-align: right;\">\n",
              "      <th></th>\n",
              "      <th>price</th>\n",
              "      <th>fuel_type</th>\n",
              "    </tr>\n",
              "  </thead>\n",
              "  <tbody>\n",
              "    <tr>\n",
              "      <th>134</th>\n",
              "      <td>5118</td>\n",
              "      <td>gas</td>\n",
              "    </tr>\n",
              "  </tbody>\n",
              "</table>\n",
              "</div>\n",
              "    <div class=\"colab-df-buttons\">\n",
              "\n",
              "  <div class=\"colab-df-container\">\n",
              "    <button class=\"colab-df-convert\" onclick=\"convertToInteractive('df-f9944701-cdb7-49a9-aa34-41c09c48710b')\"\n",
              "            title=\"Convert this dataframe to an interactive table.\"\n",
              "            style=\"display:none;\">\n",
              "\n",
              "  <svg xmlns=\"http://www.w3.org/2000/svg\" height=\"24px\" viewBox=\"0 -960 960 960\">\n",
              "    <path d=\"M120-120v-720h720v720H120Zm60-500h600v-160H180v160Zm220 220h160v-160H400v160Zm0 220h160v-160H400v160ZM180-400h160v-160H180v160Zm440 0h160v-160H620v160ZM180-180h160v-160H180v160Zm440 0h160v-160H620v160Z\"/>\n",
              "  </svg>\n",
              "    </button>\n",
              "\n",
              "  <style>\n",
              "    .colab-df-container {\n",
              "      display:flex;\n",
              "      gap: 12px;\n",
              "    }\n",
              "\n",
              "    .colab-df-convert {\n",
              "      background-color: #E8F0FE;\n",
              "      border: none;\n",
              "      border-radius: 50%;\n",
              "      cursor: pointer;\n",
              "      display: none;\n",
              "      fill: #1967D2;\n",
              "      height: 32px;\n",
              "      padding: 0 0 0 0;\n",
              "      width: 32px;\n",
              "    }\n",
              "\n",
              "    .colab-df-convert:hover {\n",
              "      background-color: #E2EBFA;\n",
              "      box-shadow: 0px 1px 2px rgba(60, 64, 67, 0.3), 0px 1px 3px 1px rgba(60, 64, 67, 0.15);\n",
              "      fill: #174EA6;\n",
              "    }\n",
              "\n",
              "    .colab-df-buttons div {\n",
              "      margin-bottom: 4px;\n",
              "    }\n",
              "\n",
              "    [theme=dark] .colab-df-convert {\n",
              "      background-color: #3B4455;\n",
              "      fill: #D2E3FC;\n",
              "    }\n",
              "\n",
              "    [theme=dark] .colab-df-convert:hover {\n",
              "      background-color: #434B5C;\n",
              "      box-shadow: 0px 1px 3px 1px rgba(0, 0, 0, 0.15);\n",
              "      filter: drop-shadow(0px 1px 2px rgba(0, 0, 0, 0.3));\n",
              "      fill: #FFFFFF;\n",
              "    }\n",
              "  </style>\n",
              "\n",
              "    <script>\n",
              "      const buttonEl =\n",
              "        document.querySelector('#df-f9944701-cdb7-49a9-aa34-41c09c48710b button.colab-df-convert');\n",
              "      buttonEl.style.display =\n",
              "        google.colab.kernel.accessAllowed ? 'block' : 'none';\n",
              "\n",
              "      async function convertToInteractive(key) {\n",
              "        const element = document.querySelector('#df-f9944701-cdb7-49a9-aa34-41c09c48710b');\n",
              "        const dataTable =\n",
              "          await google.colab.kernel.invokeFunction('convertToInteractive',\n",
              "                                                    [key], {});\n",
              "        if (!dataTable) return;\n",
              "\n",
              "        const docLinkHtml = 'Like what you see? Visit the ' +\n",
              "          '<a target=\"_blank\" href=https://colab.research.google.com/notebooks/data_table.ipynb>data table notebook</a>'\n",
              "          + ' to learn more about interactive tables.';\n",
              "        element.innerHTML = '';\n",
              "        dataTable['output_type'] = 'display_data';\n",
              "        await google.colab.output.renderOutput(dataTable, element);\n",
              "        const docLink = document.createElement('div');\n",
              "        docLink.innerHTML = docLinkHtml;\n",
              "        element.appendChild(docLink);\n",
              "      }\n",
              "    </script>\n",
              "  </div>\n",
              "\n",
              "\n",
              "    </div>\n",
              "  </div>\n"
            ],
            "application/vnd.google.colaboratory.intrinsic+json": {
              "type": "dataframe",
              "summary": "{\n  \"name\": \"df\",\n  \"rows\": 1,\n  \"fields\": [\n    {\n      \"column\": \"price\",\n      \"properties\": {\n        \"dtype\": \"number\",\n        \"std\": null,\n        \"min\": 5118,\n        \"max\": 5118,\n        \"num_unique_values\": 1,\n        \"samples\": [\n          5118\n        ],\n        \"semantic_type\": \"\",\n        \"description\": \"\"\n      }\n    },\n    {\n      \"column\": \"fuel_type\",\n      \"properties\": {\n        \"dtype\": \"string\",\n        \"num_unique_values\": 1,\n        \"samples\": [\n          \"gas\"\n        ],\n        \"semantic_type\": \"\",\n        \"description\": \"\"\n      }\n    }\n  ]\n}"
            }
          },
          "metadata": {},
          "execution_count": 11
        }
      ],
      "source": [
        "min=df['price'].min()\n",
        "df.loc[df['price']==min, ('price',\"fuel_type\")]"
      ]
    },
    {
      "cell_type": "code",
      "execution_count": null,
      "id": "0370a144",
      "metadata": {
        "id": "0370a144",
        "outputId": "e0f3410e-e746-464b-eac0-1425d42d8927"
      },
      "outputs": [
        {
          "data": {
            "text/html": [
              "<div>\n",
              "<style scoped>\n",
              "    .dataframe tbody tr th:only-of-type {\n",
              "        vertical-align: middle;\n",
              "    }\n",
              "\n",
              "    .dataframe tbody tr th {\n",
              "        vertical-align: top;\n",
              "    }\n",
              "\n",
              "    .dataframe thead th {\n",
              "        text-align: right;\n",
              "    }\n",
              "</style>\n",
              "<table border=\"1\" class=\"dataframe\">\n",
              "  <thead>\n",
              "    <tr style=\"text-align: right;\">\n",
              "      <th></th>\n",
              "      <th>price</th>\n",
              "      <th>fuel_type</th>\n",
              "    </tr>\n",
              "  </thead>\n",
              "  <tbody>\n",
              "    <tr>\n",
              "      <th>71</th>\n",
              "      <td>45400</td>\n",
              "      <td>gas</td>\n",
              "    </tr>\n",
              "  </tbody>\n",
              "</table>\n",
              "</div>"
            ],
            "text/plain": [
              "    price fuel_type\n",
              "71  45400       gas"
            ]
          },
          "execution_count": 129,
          "metadata": {},
          "output_type": "execute_result"
        }
      ],
      "source": [
        "df.loc[df['price']==v,('price',\"fuel_type\")]"
      ]
    },
    {
      "cell_type": "code",
      "execution_count": null,
      "id": "910f8b27",
      "metadata": {
        "id": "910f8b27",
        "outputId": "6cdae5a7-4ad8-4dd3-9cb2-db2bdc3e99e1"
      },
      "outputs": [
        {
          "data": {
            "text/plain": [
              "array(['dohc', 'ohcv', 'ohc', 'l', 'rotor', 'ohcf'], dtype=object)"
            ]
          },
          "execution_count": 33,
          "metadata": {},
          "output_type": "execute_result"
        }
      ],
      "source": [
        "df['engine_type'].unique()"
      ]
    },
    {
      "cell_type": "code",
      "execution_count": null,
      "id": "767d0cd6",
      "metadata": {
        "id": "767d0cd6",
        "outputId": "fa4128b1-0c3e-4a5f-96c4-e59e72d23205",
        "colab": {
          "base_uri": "https://localhost:8080/",
          "height": 899
        }
      },
      "outputs": [
        {
          "output_type": "execute_result",
          "data": {
            "text/plain": [
              "symboling                6\n",
              "normalized_losses       58\n",
              "make                    22\n",
              "fuel_type                2\n",
              "aspiration               2\n",
              "number_of_doors          2\n",
              "body_style               5\n",
              "drive_wheels             3\n",
              "engine_location          2\n",
              "wheel_base              52\n",
              "length                  73\n",
              "width                   43\n",
              "height                  49\n",
              "curb_weight            169\n",
              "engine_type              6\n",
              "number_of_cylinders      7\n",
              "engine_size             43\n",
              "fuel_system              8\n",
              "bore                    39\n",
              "stroke                  36\n",
              "compression_ratio       32\n",
              "horsepower              58\n",
              "peak_rpm                22\n",
              "city_mpg                29\n",
              "highway_mpg             30\n",
              "price                  186\n",
              "dtype: int64"
            ],
            "text/html": [
              "<div>\n",
              "<style scoped>\n",
              "    .dataframe tbody tr th:only-of-type {\n",
              "        vertical-align: middle;\n",
              "    }\n",
              "\n",
              "    .dataframe tbody tr th {\n",
              "        vertical-align: top;\n",
              "    }\n",
              "\n",
              "    .dataframe thead th {\n",
              "        text-align: right;\n",
              "    }\n",
              "</style>\n",
              "<table border=\"1\" class=\"dataframe\">\n",
              "  <thead>\n",
              "    <tr style=\"text-align: right;\">\n",
              "      <th></th>\n",
              "      <th>0</th>\n",
              "    </tr>\n",
              "  </thead>\n",
              "  <tbody>\n",
              "    <tr>\n",
              "      <th>symboling</th>\n",
              "      <td>6</td>\n",
              "    </tr>\n",
              "    <tr>\n",
              "      <th>normalized_losses</th>\n",
              "      <td>58</td>\n",
              "    </tr>\n",
              "    <tr>\n",
              "      <th>make</th>\n",
              "      <td>22</td>\n",
              "    </tr>\n",
              "    <tr>\n",
              "      <th>fuel_type</th>\n",
              "      <td>2</td>\n",
              "    </tr>\n",
              "    <tr>\n",
              "      <th>aspiration</th>\n",
              "      <td>2</td>\n",
              "    </tr>\n",
              "    <tr>\n",
              "      <th>number_of_doors</th>\n",
              "      <td>2</td>\n",
              "    </tr>\n",
              "    <tr>\n",
              "      <th>body_style</th>\n",
              "      <td>5</td>\n",
              "    </tr>\n",
              "    <tr>\n",
              "      <th>drive_wheels</th>\n",
              "      <td>3</td>\n",
              "    </tr>\n",
              "    <tr>\n",
              "      <th>engine_location</th>\n",
              "      <td>2</td>\n",
              "    </tr>\n",
              "    <tr>\n",
              "      <th>wheel_base</th>\n",
              "      <td>52</td>\n",
              "    </tr>\n",
              "    <tr>\n",
              "      <th>length</th>\n",
              "      <td>73</td>\n",
              "    </tr>\n",
              "    <tr>\n",
              "      <th>width</th>\n",
              "      <td>43</td>\n",
              "    </tr>\n",
              "    <tr>\n",
              "      <th>height</th>\n",
              "      <td>49</td>\n",
              "    </tr>\n",
              "    <tr>\n",
              "      <th>curb_weight</th>\n",
              "      <td>169</td>\n",
              "    </tr>\n",
              "    <tr>\n",
              "      <th>engine_type</th>\n",
              "      <td>6</td>\n",
              "    </tr>\n",
              "    <tr>\n",
              "      <th>number_of_cylinders</th>\n",
              "      <td>7</td>\n",
              "    </tr>\n",
              "    <tr>\n",
              "      <th>engine_size</th>\n",
              "      <td>43</td>\n",
              "    </tr>\n",
              "    <tr>\n",
              "      <th>fuel_system</th>\n",
              "      <td>8</td>\n",
              "    </tr>\n",
              "    <tr>\n",
              "      <th>bore</th>\n",
              "      <td>39</td>\n",
              "    </tr>\n",
              "    <tr>\n",
              "      <th>stroke</th>\n",
              "      <td>36</td>\n",
              "    </tr>\n",
              "    <tr>\n",
              "      <th>compression_ratio</th>\n",
              "      <td>32</td>\n",
              "    </tr>\n",
              "    <tr>\n",
              "      <th>horsepower</th>\n",
              "      <td>58</td>\n",
              "    </tr>\n",
              "    <tr>\n",
              "      <th>peak_rpm</th>\n",
              "      <td>22</td>\n",
              "    </tr>\n",
              "    <tr>\n",
              "      <th>city_mpg</th>\n",
              "      <td>29</td>\n",
              "    </tr>\n",
              "    <tr>\n",
              "      <th>highway_mpg</th>\n",
              "      <td>30</td>\n",
              "    </tr>\n",
              "    <tr>\n",
              "      <th>price</th>\n",
              "      <td>186</td>\n",
              "    </tr>\n",
              "  </tbody>\n",
              "</table>\n",
              "</div><br><label><b>dtype:</b> int64</label>"
            ]
          },
          "metadata": {},
          "execution_count": 6
        }
      ],
      "source": [
        "df.nunique()"
      ]
    },
    {
      "cell_type": "code",
      "execution_count": null,
      "id": "6bf7046d",
      "metadata": {
        "id": "6bf7046d",
        "outputId": "3a3cca0e-423c-418b-ac33-b6ff463edb48",
        "colab": {
          "base_uri": "https://localhost:8080/",
          "height": 335
        }
      },
      "outputs": [
        {
          "output_type": "execute_result",
          "data": {
            "text/plain": [
              "count    201.000000\n",
              "mean     103.263682\n",
              "std       37.389372\n",
              "min       48.000000\n",
              "25%       70.000000\n",
              "50%       95.000000\n",
              "75%      116.000000\n",
              "max      262.000000\n",
              "Name: horsepower, dtype: float64"
            ],
            "text/html": [
              "<div>\n",
              "<style scoped>\n",
              "    .dataframe tbody tr th:only-of-type {\n",
              "        vertical-align: middle;\n",
              "    }\n",
              "\n",
              "    .dataframe tbody tr th {\n",
              "        vertical-align: top;\n",
              "    }\n",
              "\n",
              "    .dataframe thead th {\n",
              "        text-align: right;\n",
              "    }\n",
              "</style>\n",
              "<table border=\"1\" class=\"dataframe\">\n",
              "  <thead>\n",
              "    <tr style=\"text-align: right;\">\n",
              "      <th></th>\n",
              "      <th>horsepower</th>\n",
              "    </tr>\n",
              "  </thead>\n",
              "  <tbody>\n",
              "    <tr>\n",
              "      <th>count</th>\n",
              "      <td>201.000000</td>\n",
              "    </tr>\n",
              "    <tr>\n",
              "      <th>mean</th>\n",
              "      <td>103.263682</td>\n",
              "    </tr>\n",
              "    <tr>\n",
              "      <th>std</th>\n",
              "      <td>37.389372</td>\n",
              "    </tr>\n",
              "    <tr>\n",
              "      <th>min</th>\n",
              "      <td>48.000000</td>\n",
              "    </tr>\n",
              "    <tr>\n",
              "      <th>25%</th>\n",
              "      <td>70.000000</td>\n",
              "    </tr>\n",
              "    <tr>\n",
              "      <th>50%</th>\n",
              "      <td>95.000000</td>\n",
              "    </tr>\n",
              "    <tr>\n",
              "      <th>75%</th>\n",
              "      <td>116.000000</td>\n",
              "    </tr>\n",
              "    <tr>\n",
              "      <th>max</th>\n",
              "      <td>262.000000</td>\n",
              "    </tr>\n",
              "  </tbody>\n",
              "</table>\n",
              "</div><br><label><b>dtype:</b> float64</label>"
            ]
          },
          "metadata": {},
          "execution_count": 7
        }
      ],
      "source": [
        "df['horsepower'].describe().T"
      ]
    },
    {
      "cell_type": "code",
      "execution_count": null,
      "id": "63ebc0bc",
      "metadata": {
        "id": "63ebc0bc",
        "outputId": "1f9b77b3-7d87-4208-d6b5-7f0f6287c094",
        "colab": {
          "base_uri": "https://localhost:8080/"
        }
      },
      "outputs": [
        {
          "output_type": "stream",
          "name": "stdout",
          "text": [
            "30.686567164179106\n",
            "25.17910447761194\n",
            "highway\n"
          ]
        }
      ],
      "source": [
        "highway=df['highway_mpg'].mean()\n",
        "print(highway)\n",
        "city=df['city_mpg'].mean()\n",
        "print(city)\n",
        "print('highway'if highway>city else 'city')"
      ]
    },
    {
      "cell_type": "code",
      "source": [
        "df.columns"
      ],
      "metadata": {
        "colab": {
          "base_uri": "https://localhost:8080/"
        },
        "id": "9tz7INnZrTva",
        "outputId": "c1cb05b3-94d2-4007-e8ea-35386879b379"
      },
      "id": "9tz7INnZrTva",
      "execution_count": null,
      "outputs": [
        {
          "output_type": "execute_result",
          "data": {
            "text/plain": [
              "Index(['symboling', 'normalized_losses', 'make', 'fuel_type', 'aspiration',\n",
              "       'number_of_doors', 'body_style', 'drive_wheels', 'engine_location',\n",
              "       'wheel_base', 'length', 'width', 'height', 'curb_weight', 'engine_type',\n",
              "       'number_of_cylinders', 'engine_size', 'fuel_system', 'bore', 'stroke',\n",
              "       'compression_ratio', 'horsepower', 'peak_rpm', 'city_mpg',\n",
              "       'highway_mpg', 'price'],\n",
              "      dtype='object')"
            ]
          },
          "metadata": {},
          "execution_count": 15
        }
      ]
    },
    {
      "cell_type": "code",
      "execution_count": null,
      "id": "4b4bc44a",
      "metadata": {
        "id": "4b4bc44a",
        "outputId": "99e1d79e-8039-46c9-e6cb-393161730998"
      },
      "outputs": [
        {
          "data": {
            "text/html": [
              "<div>\n",
              "<style scoped>\n",
              "    .dataframe tbody tr th:only-of-type {\n",
              "        vertical-align: middle;\n",
              "    }\n",
              "\n",
              "    .dataframe tbody tr th {\n",
              "        vertical-align: top;\n",
              "    }\n",
              "\n",
              "    .dataframe thead th {\n",
              "        text-align: right;\n",
              "    }\n",
              "</style>\n",
              "<table border=\"1\" class=\"dataframe\">\n",
              "  <thead>\n",
              "    <tr style=\"text-align: right;\">\n",
              "      <th></th>\n",
              "      <th>make</th>\n",
              "      <th>count</th>\n",
              "    </tr>\n",
              "  </thead>\n",
              "  <tbody>\n",
              "    <tr>\n",
              "      <th>0</th>\n",
              "      <td>toyota</td>\n",
              "      <td>32</td>\n",
              "    </tr>\n",
              "    <tr>\n",
              "      <th>1</th>\n",
              "      <td>nissan</td>\n",
              "      <td>18</td>\n",
              "    </tr>\n",
              "    <tr>\n",
              "      <th>2</th>\n",
              "      <td>mazda</td>\n",
              "      <td>17</td>\n",
              "    </tr>\n",
              "    <tr>\n",
              "      <th>3</th>\n",
              "      <td>mitsubishi</td>\n",
              "      <td>13</td>\n",
              "    </tr>\n",
              "    <tr>\n",
              "      <th>4</th>\n",
              "      <td>honda</td>\n",
              "      <td>13</td>\n",
              "    </tr>\n",
              "    <tr>\n",
              "      <th>5</th>\n",
              "      <td>volkswagen</td>\n",
              "      <td>12</td>\n",
              "    </tr>\n",
              "    <tr>\n",
              "      <th>6</th>\n",
              "      <td>subaru</td>\n",
              "      <td>12</td>\n",
              "    </tr>\n",
              "    <tr>\n",
              "      <th>7</th>\n",
              "      <td>peugot</td>\n",
              "      <td>11</td>\n",
              "    </tr>\n",
              "    <tr>\n",
              "      <th>8</th>\n",
              "      <td>volvo</td>\n",
              "      <td>11</td>\n",
              "    </tr>\n",
              "    <tr>\n",
              "      <th>9</th>\n",
              "      <td>dodge</td>\n",
              "      <td>9</td>\n",
              "    </tr>\n",
              "    <tr>\n",
              "      <th>10</th>\n",
              "      <td>mercedes-benz</td>\n",
              "      <td>8</td>\n",
              "    </tr>\n",
              "    <tr>\n",
              "      <th>11</th>\n",
              "      <td>bmw</td>\n",
              "      <td>8</td>\n",
              "    </tr>\n",
              "    <tr>\n",
              "      <th>12</th>\n",
              "      <td>plymouth</td>\n",
              "      <td>7</td>\n",
              "    </tr>\n",
              "    <tr>\n",
              "      <th>13</th>\n",
              "      <td>audi</td>\n",
              "      <td>6</td>\n",
              "    </tr>\n",
              "    <tr>\n",
              "      <th>14</th>\n",
              "      <td>saab</td>\n",
              "      <td>6</td>\n",
              "    </tr>\n",
              "    <tr>\n",
              "      <th>15</th>\n",
              "      <td>porsche</td>\n",
              "      <td>4</td>\n",
              "    </tr>\n",
              "    <tr>\n",
              "      <th>16</th>\n",
              "      <td>jaguar</td>\n",
              "      <td>3</td>\n",
              "    </tr>\n",
              "    <tr>\n",
              "      <th>17</th>\n",
              "      <td>chevrolet</td>\n",
              "      <td>3</td>\n",
              "    </tr>\n",
              "    <tr>\n",
              "      <th>18</th>\n",
              "      <td>alfa-romero</td>\n",
              "      <td>3</td>\n",
              "    </tr>\n",
              "    <tr>\n",
              "      <th>19</th>\n",
              "      <td>isuzu</td>\n",
              "      <td>2</td>\n",
              "    </tr>\n",
              "    <tr>\n",
              "      <th>20</th>\n",
              "      <td>renault</td>\n",
              "      <td>2</td>\n",
              "    </tr>\n",
              "    <tr>\n",
              "      <th>21</th>\n",
              "      <td>mercury</td>\n",
              "      <td>1</td>\n",
              "    </tr>\n",
              "  </tbody>\n",
              "</table>\n",
              "</div>"
            ],
            "text/plain": [
              "             make  count\n",
              "0          toyota     32\n",
              "1          nissan     18\n",
              "2           mazda     17\n",
              "3      mitsubishi     13\n",
              "4           honda     13\n",
              "5      volkswagen     12\n",
              "6          subaru     12\n",
              "7          peugot     11\n",
              "8           volvo     11\n",
              "9           dodge      9\n",
              "10  mercedes-benz      8\n",
              "11            bmw      8\n",
              "12       plymouth      7\n",
              "13           audi      6\n",
              "14           saab      6\n",
              "15        porsche      4\n",
              "16         jaguar      3\n",
              "17      chevrolet      3\n",
              "18    alfa-romero      3\n",
              "19          isuzu      2\n",
              "20        renault      2\n",
              "21        mercury      1"
            ]
          },
          "execution_count": 157,
          "metadata": {},
          "output_type": "execute_result"
        }
      ],
      "source": [
        "f=df['make'].value_counts().reset_index()\n",
        "f"
      ]
    },
    {
      "cell_type": "markdown",
      "id": "86df5b53",
      "metadata": {
        "id": "86df5b53"
      },
      "source": [
        "2. Accessing Data with .loc[]\n",
        "Using the following DataFrame:\n",
        "df = pd.DataFrame({\n",
        "    \"Name\": [\"Alice\", \"Bob\", \"Charlie\", \"David\"],\n",
        "    \"Age\": [24, 27, 22, 32],\n",
        "    \"Score\": [85, 90, 78, 88]\n",
        "})\n",
        "Task\n",
        "•\tRetrieve the row where Name == \"Charlie\" using .loc[].\n",
        "•\tSelect only the Age and Score columns for \"Alice\" and \"Bob\" using .loc[].\n"
      ]
    },
    {
      "cell_type": "code",
      "execution_count": null,
      "id": "45b60231",
      "metadata": {
        "id": "45b60231",
        "outputId": "50340cbe-08dc-4a4c-bff1-500ec8ed8f2a",
        "colab": {
          "base_uri": "https://localhost:8080/"
        }
      },
      "outputs": [
        {
          "output_type": "stream",
          "name": "stdout",
          "text": [
            "      Name  Age  Score\n",
            "2  Charlie   22     78\n"
          ]
        }
      ],
      "source": [
        "df = pd.DataFrame({\n",
        "    \"Name\": [\"Alice\", \"Bob\", \"Charlie\", \"David\"],\n",
        "    \"Age\": [24, 27, 22, 32],\n",
        "    \"Score\": [85, 90, 78, 88]})\n",
        "d=df.loc[df['Name']=='Charlie']\n",
        "print(d)"
      ]
    },
    {
      "cell_type": "code",
      "execution_count": null,
      "id": "83631d7e",
      "metadata": {
        "id": "83631d7e",
        "outputId": "416987ac-3045-44f2-c668-207cde9858ee",
        "colab": {
          "base_uri": "https://localhost:8080/"
        }
      },
      "outputs": [
        {
          "output_type": "stream",
          "name": "stdout",
          "text": [
            "   Age  Score\n",
            "0   24     85\n",
            "1   27     90\n"
          ]
        }
      ],
      "source": [
        "i=df.loc[df[\"Name\"].isin([\"Alice\", \"Bob\"]), [\"Age\", \"Score\"]]\n",
        "print(i)"
      ]
    },
    {
      "cell_type": "markdown",
      "id": "be302027",
      "metadata": {
        "id": "be302027"
      },
      "source": [
        "3. Accessing Data with .iloc[]\n",
        "Using the same DataFrame from Question 2, write code to:\n",
        "•\tRetrieve the second row using .iloc[].\n",
        "•\tExtract the last two rows using .iloc[].\n"
      ]
    },
    {
      "cell_type": "code",
      "execution_count": null,
      "id": "10bc1461",
      "metadata": {
        "id": "10bc1461",
        "outputId": "9335b5b2-c3f4-4ce4-c5c0-5a1a69b1a994"
      },
      "outputs": [
        {
          "name": "stdout",
          "output_type": "stream",
          "text": [
            "Name     Bob\n",
            "Age       27\n",
            "Score     90\n",
            "Name: 1, dtype: object\n"
          ]
        }
      ],
      "source": [
        "s=df.iloc[1]\n",
        "print(s)"
      ]
    },
    {
      "cell_type": "code",
      "execution_count": null,
      "id": "1816c298",
      "metadata": {
        "id": "1816c298",
        "outputId": "a5379d27-f06a-4f93-9261-d0993f28d5d5"
      },
      "outputs": [
        {
          "name": "stdout",
          "output_type": "stream",
          "text": [
            "Name     Charlie\n",
            "Age           22\n",
            "Score         78\n",
            "Name: 2, dtype: object\n"
          ]
        }
      ],
      "source": [
        "z=df.iloc[-2]\n",
        "print(z)"
      ]
    },
    {
      "cell_type": "markdown",
      "id": "6de4a828",
      "metadata": {
        "id": "6de4a828"
      },
      "source": [
        "4. Filtering Rows Based on Conditions\n",
        "Using the following DataFrame:\n",
        "df = pd.DataFrame({\n",
        "    \"Employee\": [\"John\", \"Alice\", \"Bob\", \"David\"],\n",
        "    \"Salary\": [50000, 60000, 55000, 65000],\n",
        "    \"Department\": [\"IT\", \"HR\", \"IT\", \"Finance\"]\n",
        "})\n",
        "Task\n",
        "Write a Pandas command to:\n",
        "•\tSelect only IT employees.\n",
        "•\tSelect employees with a salary greater than 55,000."
      ]
    },
    {
      "cell_type": "code",
      "execution_count": null,
      "id": "df37f428",
      "metadata": {
        "id": "df37f428"
      },
      "outputs": [],
      "source": [
        "df = pd.DataFrame({\n",
        "    \"Employee\": [\"John\", \"Alice\", \"Bob\", \"David\"],\n",
        "    \"Salary\": [50000, 60000, 55000, 65000],\n",
        "    \"Department\": [\"IT\", \"HR\", \"IT\", \"Finance\"]})\n"
      ]
    },
    {
      "cell_type": "code",
      "execution_count": null,
      "id": "5d1dbde8",
      "metadata": {
        "id": "5d1dbde8",
        "outputId": "29032121-5dd8-41bb-c07e-c38c3d6ca67d"
      },
      "outputs": [
        {
          "name": "stdout",
          "output_type": "stream",
          "text": [
            "  Employee  Salary Department\n",
            "0     John   50000         IT\n",
            "2      Bob   55000         IT\n"
          ]
        }
      ],
      "source": [
        "w=df.loc[df['Department']=='IT']\n",
        "print(w)"
      ]
    },
    {
      "cell_type": "code",
      "execution_count": null,
      "id": "21236242",
      "metadata": {
        "id": "21236242",
        "outputId": "fd6a5c14-370a-4367-aaf1-05076740d693"
      },
      "outputs": [
        {
          "name": "stdout",
          "output_type": "stream",
          "text": [
            "  Employee  Salary Department\n",
            "1    Alice   60000         HR\n",
            "2      Bob   55000         IT\n",
            "3    David   65000    Finance\n"
          ]
        }
      ],
      "source": [
        "d=(df.loc[df['Salary']>=55000])\n",
        "print(d)"
      ]
    },
    {
      "cell_type": "code",
      "execution_count": null,
      "id": "079a1cee",
      "metadata": {
        "id": "079a1cee",
        "outputId": "c3530d66-3fc0-4da8-ce0f-b927e342c4c5"
      },
      "outputs": [
        {
          "name": "stdout",
          "output_type": "stream",
          "text": [
            "  Employee  Salary Department\n",
            "1    Alice   60000         HR\n",
            "3    David   65000    Finance\n"
          ]
        }
      ],
      "source": [
        "e=df.loc[df['Salary']>55000]\n",
        "print(e)"
      ]
    },
    {
      "cell_type": "markdown",
      "id": "a3e42bbd",
      "metadata": {
        "id": "a3e42bbd"
      },
      "source": [
        "5. Applying Functions to a Column\n",
        "Using the following DataFrame:\n",
        "df = pd.DataFrame({\n",
        "    \"Student\": [\"A\", \"B\", \"C\", \"D\"],\n",
        "    \"Marks\": [45, 78, 62, 90]\n",
        "})\n",
        "Task\n",
        "Write a function that:\n",
        "•\tConverts marks below\n",
        "•\t\"50 to \"Fail\", and 50 or above to \"Pass\".\n",
        "•\tApply this function to the \"Marks\" column and create a new column Result\n"
      ]
    },
    {
      "cell_type": "code",
      "execution_count": null,
      "id": "da0a4d0a",
      "metadata": {
        "id": "da0a4d0a",
        "outputId": "03fce94b-57a3-48cf-d999-242139eec0a8"
      },
      "outputs": [
        {
          "name": "stdout",
          "output_type": "stream",
          "text": [
            "  Student  Marks     R\n",
            "0       A     45  fail\n",
            "1       B     78  pass\n",
            "2       C     62  pass\n",
            "3       D     90  pass\n"
          ]
        }
      ],
      "source": [
        " df = pd.DataFrame({ \"Student\": [\"A\", \"B\", \"C\", \"D\"], \"Marks\": [45, 78, 62, 90] })\n",
        "def grade(j):\n",
        "       return\"pass\" if j>=50 else \"fail\"\n",
        "\n",
        "df[\"R\"] = df[\"Marks\"].apply(grade)\n",
        "print(df)\n"
      ]
    },
    {
      "cell_type": "code",
      "execution_count": null,
      "id": "f65fa265",
      "metadata": {
        "id": "f65fa265"
      },
      "outputs": [],
      "source": [
        "def abc(st):\n",
        "    return 0 if st==\"fail\" else 100"
      ]
    },
    {
      "cell_type": "code",
      "execution_count": null,
      "id": "6fc7940e",
      "metadata": {
        "id": "6fc7940e",
        "outputId": "7ebcf025-ee43-43fc-9f66-d80007ea3af9"
      },
      "outputs": [
        {
          "data": {
            "text/html": [
              "<div>\n",
              "<style scoped>\n",
              "    .dataframe tbody tr th:only-of-type {\n",
              "        vertical-align: middle;\n",
              "    }\n",
              "\n",
              "    .dataframe tbody tr th {\n",
              "        vertical-align: top;\n",
              "    }\n",
              "\n",
              "    .dataframe thead th {\n",
              "        text-align: right;\n",
              "    }\n",
              "</style>\n",
              "<table border=\"1\" class=\"dataframe\">\n",
              "  <thead>\n",
              "    <tr style=\"text-align: right;\">\n",
              "      <th></th>\n",
              "      <th>Student</th>\n",
              "      <th>Marks</th>\n",
              "      <th>R</th>\n",
              "      <th>ABC</th>\n",
              "    </tr>\n",
              "  </thead>\n",
              "  <tbody>\n",
              "    <tr>\n",
              "      <th>0</th>\n",
              "      <td>A</td>\n",
              "      <td>45</td>\n",
              "      <td>fail</td>\n",
              "      <td>0</td>\n",
              "    </tr>\n",
              "    <tr>\n",
              "      <th>1</th>\n",
              "      <td>B</td>\n",
              "      <td>78</td>\n",
              "      <td>pass</td>\n",
              "      <td>100</td>\n",
              "    </tr>\n",
              "    <tr>\n",
              "      <th>2</th>\n",
              "      <td>C</td>\n",
              "      <td>62</td>\n",
              "      <td>pass</td>\n",
              "      <td>100</td>\n",
              "    </tr>\n",
              "    <tr>\n",
              "      <th>3</th>\n",
              "      <td>D</td>\n",
              "      <td>90</td>\n",
              "      <td>pass</td>\n",
              "      <td>100</td>\n",
              "    </tr>\n",
              "  </tbody>\n",
              "</table>\n",
              "</div>"
            ],
            "text/plain": [
              "  Student  Marks     R  ABC\n",
              "0       A     45  fail    0\n",
              "1       B     78  pass  100\n",
              "2       C     62  pass  100\n",
              "3       D     90  pass  100"
            ]
          },
          "execution_count": 166,
          "metadata": {},
          "output_type": "execute_result"
        }
      ],
      "source": [
        "df[\"ABC\"] = df[\"R\"].apply(abc)\n",
        "df"
      ]
    },
    {
      "cell_type": "code",
      "execution_count": null,
      "id": "c0e19d19",
      "metadata": {
        "id": "c0e19d19",
        "outputId": "9d940ccf-b674-4f3d-c2d9-1476401ea135"
      },
      "outputs": [
        {
          "data": {
            "text/plain": [
              "'fail'"
            ]
          },
          "execution_count": 161,
          "metadata": {},
          "output_type": "execute_result"
        }
      ],
      "source": [
        "grade(30)"
      ]
    },
    {
      "cell_type": "markdown",
      "id": "3f223dbb",
      "metadata": {
        "id": "3f223dbb"
      },
      "source": [
        ". NumPy - Creating and Reshaping Arrays\n",
        "Write Python code to:\n",
        "•\tCreate a NumPy array with values from 1 to 12.\n",
        "•\tReshape it into a 3x4 matrix."
      ]
    },
    {
      "cell_type": "code",
      "execution_count": null,
      "id": "693dcdf0",
      "metadata": {
        "id": "693dcdf0",
        "outputId": "741c0ac2-dfd3-4020-ef13-ad770c6f705f"
      },
      "outputs": [
        {
          "name": "stdout",
          "output_type": "stream",
          "text": [
            "[[ 1  2  3  4]\n",
            " [ 5  6  7  8]\n",
            " [ 9 10 11 12]]\n"
          ]
        }
      ],
      "source": [
        "import numpy as np\n",
        "arr= np.arange(1,13).reshape(3,4)\n",
        "print(arr)"
      ]
    },
    {
      "cell_type": "markdown",
      "id": "c3656122",
      "metadata": {
        "id": "c3656122"
      },
      "source": [
        "7. NumPy - Broadcasting & Element-wise Operations\n",
        "You are given the following NumPy arrays:\n",
        "a = np.array([1, 2, 3])\n",
        "b = np.array([10, 20, 30])\n",
        "Task\n",
        "Perform:\n",
        "1.\tElement-wise multiplication of a and b.\n",
        "2.\tAdd 5 to each element of a using broadcasting\n"
      ]
    },
    {
      "cell_type": "code",
      "execution_count": null,
      "id": "2f7d4ac7",
      "metadata": {
        "id": "2f7d4ac7",
        "outputId": "a22e18eb-c575-4edf-f05d-05e9fc1a5ceb"
      },
      "outputs": [
        {
          "name": "stdout",
          "output_type": "stream",
          "text": [
            "[10 40 90]\n",
            "[6 7 8]\n",
            "[15 25 35]\n"
          ]
        }
      ],
      "source": [
        "a = np.array([1, 2, 3])\n",
        "b = np.array([10, 20, 30])\n",
        "print(a*b)\n",
        "print(a+5)\n",
        "print(b+5)\n"
      ]
    },
    {
      "cell_type": "markdown",
      "id": "bccda46e",
      "metadata": {
        "id": "bccda46e"
      },
      "source": [
        "8. Finding Maximum and Minimum Values in a NumPy Array\n",
        "Given:\n",
        "arr = np.array([[3, 7, 2], [4, 9, 6]])\n",
        "Task\n",
        "•\tFind the maximum value in the entire array.\n",
        "•\tFind the minimum value in each row\n"
      ]
    },
    {
      "cell_type": "code",
      "execution_count": null,
      "id": "e07c0be4",
      "metadata": {
        "id": "e07c0be4",
        "outputId": "d3c2dacd-b7cf-45e0-85d1-813f9cfbb14f"
      },
      "outputs": [
        {
          "name": "stdout",
          "output_type": "stream",
          "text": [
            "[[3 7 2]\n",
            " [4 9 6]]\n"
          ]
        },
        {
          "data": {
            "text/plain": [
              "array([2, 4])"
            ]
          },
          "execution_count": 3,
          "metadata": {},
          "output_type": "execute_result"
        }
      ],
      "source": [
        "arr = np.array([[3, 7, 2], [4, 9, 6]])\n",
        "d=arr.min()\n",
        "d\n",
        "print(arr)\n",
        "f1=arr.min(axis=1)\n",
        "f1"
      ]
    },
    {
      "cell_type": "markdown",
      "id": "c51af875",
      "metadata": {
        "id": "c51af875"
      },
      "source": [
        "9. Grouping & Aggregation in Pandas\n",
        "You have the following DataFrame:\n",
        "df = pd.DataFrame({\n",
        "    \"Department\": [\"IT\", \"HR\", \"IT\", \"Finance\", \"HR\"],\n",
        "    \"Salary\": [70000, 50000, 80000, 60000, 52000]\n",
        "})\n",
        "Task\n",
        "Write a Pandas command to:\n",
        "•\tGroup the DataFrame by \"Department\" and calculate the average salary per department\n"
      ]
    },
    {
      "cell_type": "code",
      "execution_count": null,
      "id": "e33241e7",
      "metadata": {
        "id": "e33241e7"
      },
      "outputs": [],
      "source": [
        "df = pd.DataFrame({\n",
        "    \"Department\": [\"IT\", \"HR\", \"IT\", \"Finance\", \"HR\"],\n",
        "    \"Salary\": [70000, 50000, 80000, 60000, 52000]\n",
        "})\n"
      ]
    },
    {
      "cell_type": "code",
      "source": [
        "print(df.groupby(\"Department\")['Salary'].mean())"
      ],
      "metadata": {
        "colab": {
          "base_uri": "https://localhost:8080/"
        },
        "id": "FVMHJxVYmPVG",
        "outputId": "12acb65e-5671-4f4a-ceb4-35e6e4c271d5"
      },
      "id": "FVMHJxVYmPVG",
      "execution_count": null,
      "outputs": [
        {
          "output_type": "stream",
          "name": "stdout",
          "text": [
            "Department\n",
            "Finance    60000.0\n",
            "HR         51000.0\n",
            "IT         75000.0\n",
            "Name: Salary, dtype: float64\n"
          ]
        }
      ]
    },
    {
      "cell_type": "markdown",
      "source": [
        "10. Sorting a DataFrame\n",
        "Given the following DataFrame:\n",
        "df = pd.DataFrame({\n",
        "    \"City\": [\"New York\", \"Los Angeles\", \"Chicago\", \"Houston\"],\n",
        "    \"Population\": [8419600, 3980400, 2716000, 2328000]\n",
        "})\n",
        "Task\n",
        "•\tSort the DataFrame by Population in descending order.\n"
      ],
      "metadata": {
        "id": "AfFFHedipJQ1"
      },
      "id": "AfFFHedipJQ1"
    },
    {
      "cell_type": "code",
      "source": [
        "df = pd.DataFrame({\n",
        "    \"City\": [\"New York\", \"Los Angeles\", \"Chicago\", \"Houston\"],\n",
        "    \"Population\": [8419600, 3980400, 2716000, 2328000]\n",
        "})\n",
        "print(df.sort_values(\"Population\",ascending=False))"
      ],
      "metadata": {
        "colab": {
          "base_uri": "https://localhost:8080/"
        },
        "id": "4R9gQWjnpL5z",
        "outputId": "424df4a2-7677-4a51-b226-aa3f1578055b"
      },
      "id": "4R9gQWjnpL5z",
      "execution_count": null,
      "outputs": [
        {
          "output_type": "stream",
          "name": "stdout",
          "text": [
            "          City  Population\n",
            "0     New York     8419600\n",
            "1  Los Angeles     3980400\n",
            "2      Chicago     2716000\n",
            "3      Houston     2328000\n"
          ]
        }
      ]
    },
    {
      "cell_type": "markdown",
      "source": [
        "11. Multi-Indexing in Pandas\n",
        "You are given the following DataFrame:\n",
        "data = {\n",
        "    \"Region\": [\"North\", \"North\", \"South\", \"South\", \"East\", \"East\"],\n",
        "    \"City\": [\"A\", \"B\", \"A\", \"B\", \"A\", \"B\"],\n",
        "    \"Sales\": [200, 150, 180, 220, 300, 250]\n",
        "}\n",
        "df = pd.DataFrame(data).set_index([\"Region\", \"City\"])\n",
        "Task\n",
        "•\tRetrieve the sales value for City A in the South Region using multi-indexing.\n",
        "________________________________________\n"
      ],
      "metadata": {
        "id": "pBiE5BGbt6MH"
      },
      "id": "pBiE5BGbt6MH"
    },
    {
      "cell_type": "code",
      "source": [
        "data = {\n",
        "    \"Region\": [\"North\", \"North\", \"South\", \"South\", \"East\", \"East\"],\n",
        "    \"City\": [\"A\", \"B\", \"A\", \"B\", \"A\", \"B\"],\n",
        "    \"Sales\": [200, 150, 180, 220, 300, 250]\n",
        "}\n",
        "df = pd.DataFrame(data).set_index([\"Region\", \"City\"])"
      ],
      "metadata": {
        "id": "FECdh6KPuOzK"
      },
      "id": "FECdh6KPuOzK",
      "execution_count": null,
      "outputs": []
    },
    {
      "cell_type": "code",
      "source": [
        "print(df.loc['South','A'],\"Sales\")"
      ],
      "metadata": {
        "colab": {
          "base_uri": "https://localhost:8080/"
        },
        "id": "FSz8_ujVurKy",
        "outputId": "452ddb93-a76d-4117-8715-471c4be52a9f"
      },
      "id": "FSz8_ujVurKy",
      "execution_count": null,
      "outputs": [
        {
          "output_type": "stream",
          "name": "stdout",
          "text": [
            "Sales    180\n",
            "Name: (South, A), dtype: int64 Sales\n"
          ]
        }
      ]
    },
    {
      "cell_type": "markdown",
      "source": [
        "12. Creating a DataFrame from a NumPy Array\n",
        "Generate a 5x4 NumPy array with random integers between 10 and 99 and convert it into a Pandas DataFrame with column names [\"A\", \"B\", \"C\", \"D\"].\n"
      ],
      "metadata": {
        "id": "59cCP5vgwao8"
      },
      "id": "59cCP5vgwao8"
    },
    {
      "cell_type": "code",
      "source": [
        "sd=np.random.randint(low=10,high=99,size=(5,4))\n",
        "print(pd.DataFrame(sd,columns=['A','B','C','D']))"
      ],
      "metadata": {
        "colab": {
          "base_uri": "https://localhost:8080/"
        },
        "id": "ccQgYHdNwe8s",
        "outputId": "75643153-30ba-4a18-e1e6-c2f9130e82fb"
      },
      "id": "ccQgYHdNwe8s",
      "execution_count": null,
      "outputs": [
        {
          "output_type": "stream",
          "name": "stdout",
          "text": [
            "    A   B   C   D\n",
            "0  26  64  66  91\n",
            "1  25  88  47  11\n",
            "2  59  53  35  79\n",
            "3  16  69  17  43\n",
            "4  72  85  74  64\n"
          ]
        }
      ]
    },
    {
      "cell_type": "markdown",
      "source": [
        "13. Conditional Column Update\n",
        "Given the following DataFrame:\n",
        "df = pd.DataFrame({\n",
        "    \"Student\": [\"Alice\", \"Bob\", \"Charlie\", \"David\"],\n",
        "    \"Marks\": [88, 45, 76, 90],\n",
        "    \"Attendance\": [85, 50, 90, 60]\n",
        "})\n",
        "Task\n",
        "Write a one-liner Pandas command to set \"Marks\" to 0 for students whose \"Attendance\" is less than 60.\n",
        "________________________________________\n"
      ],
      "metadata": {
        "id": "eckJzkCdApJf"
      },
      "id": "eckJzkCdApJf"
    },
    {
      "cell_type": "code",
      "source": [
        "df = pd.DataFrame({\n",
        "    \"Student\": [\"Alice\", \"Bob\", \"Charlie\", \"David\"],\n",
        "    \"Marks\": [88, 45, 76, 90],\n",
        "    \"Attendance\": [85, 50, 90, 60]\n",
        "})"
      ],
      "metadata": {
        "id": "f9qgncBtArS2"
      },
      "id": "f9qgncBtArS2",
      "execution_count": null,
      "outputs": []
    },
    {
      "cell_type": "code",
      "source": [
        "a=(df['Attendance']<60,'Marks')\n"
      ],
      "metadata": {
        "colab": {
          "base_uri": "https://localhost:8080/"
        },
        "id": "l8aWtrAmA5x9",
        "outputId": "c407ac76-c103-4666-d91c-399d30225db4"
      },
      "id": "l8aWtrAmA5x9",
      "execution_count": null,
      "outputs": [
        {
          "output_type": "execute_result",
          "data": {
            "text/plain": [
              "(0    False\n",
              " 1     True\n",
              " 2    False\n",
              " 3    False\n",
              " Name: Attendance, dtype: bool,\n",
              " 'Marks')"
            ]
          },
          "metadata": {},
          "execution_count": 54
        }
      ]
    },
    {
      "cell_type": "code",
      "source": [
        "df.loc[df['Attendance'] < 60, 'Marks'] = 0\n",
        "print(df)"
      ],
      "metadata": {
        "colab": {
          "base_uri": "https://localhost:8080/"
        },
        "id": "8H2233SFDnwm",
        "outputId": "f4c98937-2861-4902-fedf-6f9a757c615a"
      },
      "id": "8H2233SFDnwm",
      "execution_count": null,
      "outputs": [
        {
          "output_type": "stream",
          "name": "stdout",
          "text": [
            "   Student  Marks  Attendance\n",
            "0    Alice     88          85\n",
            "1      Bob      0          50\n",
            "2  Charlie     76          90\n",
            "3    David     90          60\n"
          ]
        }
      ]
    },
    {
      "cell_type": "markdown",
      "source": [
        "14. Advanced Filtering\n",
        "From a CSV file \"employees.csv\" with columns:\n",
        "EmployeeID, Department, Salary, Experience (in years).\n",
        "Note: You should create “employees.csv” & perform the below task\n"
      ],
      "metadata": {
        "id": "2Ky0-vx6D3bV"
      },
      "id": "2Ky0-vx6D3bV"
    },
    {
      "cell_type": "code",
      "source": [
        "data = {'EmployeeID': [1, 2, 3, 4, 5, 6],\n",
        "        'Department': ['IT', 'Sales', 'IT', 'HR', 'Sales', 'IT'],\n",
        "        'Salary': [60000, 50000, 70000, 55000, 62000, 80000],\n",
        "        'Experience': [3, 1, 5, 2, 4, 6]}\n",
        "df = pd.DataFrame(data)\n",
        "df.to_csv('employees.csv', index=False)\n",
        "employees_df = pd.read_csv('employees.csv')\n",
        "filtered_df = employees_df[(employees_df['Department'] == 'IT') &\n",
        "                           (employees_df['Experience'] >=5) &\n",
        "                           (employees_df['Salary'] > 60000)]\n",
        "print(filtered_df)\n"
      ],
      "metadata": {
        "colab": {
          "base_uri": "https://localhost:8080/"
        },
        "id": "p82YSCAYna3f",
        "outputId": "9965e4b1-d661-4c25-8a6d-fedb348beb6f"
      },
      "id": "p82YSCAYna3f",
      "execution_count": null,
      "outputs": [
        {
          "output_type": "stream",
          "name": "stdout",
          "text": [
            "   EmployeeID Department  Salary  Experience\n",
            "2           3         IT   70000           5\n",
            "5           6         IT   80000           6\n"
          ]
        }
      ]
    },
    {
      "cell_type": "code",
      "source": [
        "#Grouping & Aggregation with Multiple Conditions\n",
        "import pandas as pd\n",
        "df = pd.DataFrame({\n",
        "    \"Department\": [\"IT\", \"HR\", \"IT\", \"Finance\", \"HR\", \"Finance\", \"IT\"],\n",
        "    \"Salary\": [70000, 50000, 80000, 60000, 52000, 72000, 65000],\n",
        "    \"Experience\": [5, 4, 7, 3, 2, 8, 6]\n",
        "})\n",
        "filtered_df = df[df['Experience'] >= 5]\n",
        "sant=filtered_df.groupby('Department')['Salary'].mean()\n",
        "print(sant)\n"
      ],
      "metadata": {
        "colab": {
          "base_uri": "https://localhost:8080/"
        },
        "id": "C3K2Y9bFqopW",
        "outputId": "bed3154c-eb9e-4294-e0d0-0516202a5f47"
      },
      "id": "C3K2Y9bFqopW",
      "execution_count": null,
      "outputs": [
        {
          "output_type": "stream",
          "name": "stdout",
          "text": [
            "Department\n",
            "Finance    72000.000000\n",
            "IT         71666.666667\n",
            "Name: Salary, dtype: float64\n"
          ]
        }
      ]
    },
    {
      "cell_type": "code",
      "source": [
        "#NumPy - Complex Indexing\n",
        "import numpy as np\n",
        "df=np.random.randint(low=0,high=100,size=(5,5))\n",
        "df\n"
      ],
      "metadata": {
        "colab": {
          "base_uri": "https://localhost:8080/"
        },
        "id": "nk6rPwP3vhI2",
        "outputId": "9e10bccc-c798-4f4c-efb4-788e86adf139"
      },
      "id": "nk6rPwP3vhI2",
      "execution_count": null,
      "outputs": [
        {
          "output_type": "execute_result",
          "data": {
            "text/plain": [
              "array([[58, 45, 48, 53, 23],\n",
              "       [33, 28, 16, 94, 32],\n",
              "       [65, 97, 60, 40, 69],\n",
              "       [84, 96, 56, 89, 24],\n",
              "       [96, 29, 63, 68, 85]])"
            ]
          },
          "metadata": {},
          "execution_count": 6
        }
      ]
    },
    {
      "cell_type": "markdown",
      "source": [
        "16. NumPy - Complex Indexing\n",
        "Create a 5x5 NumPy array with random values between 1 and 100.\n",
        "Write a NumPy command to:\n",
        "Extract only even numbers from the array.\n",
        "Extract values from the last row and last column.\n",
        "Replace all values greater than 50 with 0."
      ],
      "metadata": {
        "id": "qrltFH-FTdHg"
      },
      "id": "qrltFH-FTdHg"
    },
    {
      "cell_type": "code",
      "source": [
        "import numpy as np\n",
        "# Create a 5x5 NumPy array with random values between 1 and 100\n",
        "arr = np.random.randint(1, 100, size=(5, 5))\n",
        "\n",
        "# Extract only even numbers from the array\n",
        "even_numbers = arr[arr % 2 == 0]\n",
        "\n",
        "# Extract values from the last row and last column\n",
        "last_row = arr[-1, :]\n",
        "last_column = arr[:, -1]\n",
        "\n",
        "# Replace all values greater than 50 with 0\n",
        "arr[arr > 50] = 0\n",
        "\n",
        "print(\"Original array:\\n\", arr)\n",
        "print(\"\\nEven numbers:\\n\", even_numbers)\n",
        "print(\"\\nLast row:\\n\", last_row)\n",
        "print(\"\\nLast column:\\n\", last_column)\n",
        "print(\"\\nArray with values > 50 replaced by 0:\\n\", arr)\n"
      ],
      "metadata": {
        "colab": {
          "base_uri": "https://localhost:8080/"
        },
        "id": "UGBV3geMTfHG",
        "outputId": "22f116e1-aefa-474a-da31-0fb42fa1b1a3"
      },
      "id": "UGBV3geMTfHG",
      "execution_count": null,
      "outputs": [
        {
          "output_type": "stream",
          "name": "stdout",
          "text": [
            "Original array:\n",
            " [[47 40  0 17 29]\n",
            " [ 0 18 31  0 31]\n",
            " [ 0 39  0  0  0]\n",
            " [25 37  0 15 43]\n",
            " [37  0 23  0 23]]\n",
            "\n",
            "Even numbers:\n",
            " [40 68 18 74 62]\n",
            "\n",
            "Last row:\n",
            " [37  0 23  0 23]\n",
            "\n",
            "Last column:\n",
            " [29 31  0 43 23]\n",
            "\n",
            "Array with values > 50 replaced by 0:\n",
            " [[47 40  0 17 29]\n",
            " [ 0 18 31  0 31]\n",
            " [ 0 39  0  0  0]\n",
            " [25 37  0 15 43]\n",
            " [37  0 23  0 23]]\n"
          ]
        }
      ]
    },
    {
      "cell_type": "markdown",
      "source": [],
      "metadata": {
        "id": "EybENa7XTc_R"
      },
      "id": "EybENa7XTc_R"
    }
  ],
  "metadata": {
    "kernelspec": {
      "display_name": "Python 3 (ipykernel)",
      "language": "python",
      "name": "python3"
    },
    "language_info": {
      "codemirror_mode": {
        "name": "ipython",
        "version": 3
      },
      "file_extension": ".py",
      "mimetype": "text/x-python",
      "name": "python",
      "nbconvert_exporter": "python",
      "pygments_lexer": "ipython3",
      "version": "3.11.5"
    },
    "colab": {
      "provenance": [],
      "include_colab_link": true
    }
  },
  "nbformat": 4,
  "nbformat_minor": 5
}