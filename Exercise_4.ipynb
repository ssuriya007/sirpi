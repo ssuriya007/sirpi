{
  "nbformat": 4,
  "nbformat_minor": 0,
  "metadata": {
    "colab": {
      "provenance": [],
      "include_colab_link": true
    },
    "kernelspec": {
      "name": "python3",
      "display_name": "Python 3"
    },
    "language_info": {
      "name": "python"
    }
  },
  "cells": [
    {
      "cell_type": "markdown",
      "metadata": {
        "id": "view-in-github",
        "colab_type": "text"
      },
      "source": [
        "<a href=\"https://colab.research.google.com/github/ssuriya007/sirpi/blob/main/Exercise_4.ipynb\" target=\"_parent\"><img src=\"https://colab.research.google.com/assets/colab-badge.svg\" alt=\"Open In Colab\"/></a>"
      ]
    },
    {
      "cell_type": "code",
      "execution_count": null,
      "metadata": {
        "id": "vX3oyA9qXLr-"
      },
      "outputs": [],
      "source": []
    },
    {
      "cell_type": "markdown",
      "source": [
        "Case Study: Library Management System\n",
        "Scenario:\n",
        "You are designing a Library Management System that allows users to borrow and return books. The system should support different types of users (Students, Professors) and different types of books (Physical books, E-books). The system should also ensure data security by preventing unauthorized access to certain attributes.\n",
        "Requirements:\n",
        "1.\tImplement a Book class with details like title, author, isbn, and availability_status.\n",
        "2.\tImplement a User class that holds name and user_type (either \"Student\" or \"Professor\").\n",
        "3.\tUse Inheritance to create specialized user types (Student, Professor) with different borrowing limits.\n",
        "4.\tUse Encapsulation to ensure that certain data (like the number of copies available) is not modified directly.\n",
        "5.\tUse Polymorphism to allow different types of books (e.g., PhysicalBook and EBook) to implement a common method for checking availability.\n",
        "6.\tUse Abstraction to define a common structure for Book that must be implemented by all book types.\n"
      ],
      "metadata": {
        "id": "8jmAC2SHZLZX"
      }
    },
    {
      "cell_type": "code",
      "source": [
        "class Book:\n",
        "    def __init__(self, title, author, isbn):\n",
        "        self.title = title\n",
        "        self.author = author\n",
        "        self.isbn = isbn\n",
        "\n",
        "    def check_availability(self):\n",
        "        pass\n",
        "\n",
        "class PhysicalBook(Book):\n",
        "    def __init__(self, title, author, isbn, copies_available):\n",
        "        super().__init__(title, author, isbn)\n",
        "        self.__copies_available = copies_available\n",
        "\n",
        "    def get_copies_available(self):\n",
        "        return self.__copies_available\n",
        "\n",
        "    def check_availability(self):\n",
        "        return self.__copies_available > 0\n",
        "\n",
        "    def borrow_book(self):\n",
        "        if self.check_availability():\n",
        "            self.__copies_available -= 1\n",
        "\n",
        "    def return_book(self):\n",
        "        self.__copies_available += 1\n",
        "\n",
        "class Ebooks(Book):\n",
        "    def __init__(self, title, author, isbn, online_users):\n",
        "        super().__init__(title, author, isbn)\n",
        "        self.__online_users = online_users\n",
        "        self.__current_users = 0\n",
        "\n",
        "    def get_online_users(self):\n",
        "        return self.__online_users\n",
        "\n",
        "    def check_availability(self):\n",
        "        return self.__current_users < self.__online_users\n",
        "\n",
        "    def borrow_book(self):\n",
        "        if self.check_availability():\n",
        "            self.__current_users += 1\n",
        "\n",
        "    def return_book(self):\n",
        "        if self.__current_users > 0:\n",
        "            self.__current_users -= 1\n",
        "\n",
        "class User:\n",
        "    def __init__(self, name, user_type):\n",
        "        self.name = name\n",
        "        self.user_type = user_type\n",
        "\n",
        "class Student(User):\n",
        "    def __init__(self, name):\n",
        "        super().__init__(name, \"Student\")\n",
        "\n",
        "    def borrowing_limits(self):\n",
        "        return 2\n",
        "\n",
        "class Professor(User):\n",
        "    def __init__(self, name):\n",
        "        super().__init__(name, \"Professor\")\n",
        "\n",
        "    def borrowing_limits(self):\n",
        "        return 5\n",
        "\n",
        "\n",
        "if __name__ == \"__main__\":\n",
        "    student = Student(\"gowtham\")\n",
        "    professor = Professor('Sudarshan Sir')\n",
        "\n",
        "    b1 = Book(\"moneyheist\", \"gully boy\", \"1111\")\n",
        "    print(b1.title, b1.author, b1.isbn)\n",
        "\n",
        "    book = PhysicalBook(\"Famous Five\", \"Enid Blyton\", \"3333\", 10)\n",
        "    kindle = Ebooks(\"Amar Chitra Katha\", \"drogan\", \"9999\", 40)\n",
        "\n",
        "    print(book.title, book.author, book.isbn, book.get_copies_available())\n",
        "    print(f\"Is the physical book available: {book.check_availability()}\")\n",
        "\n",
        "    book.borrow_book()\n",
        "    print(f\"{professor.name} has borrowed the book\")\n",
        "\n",
        "    book.return_book()\n",
        "    print(f\"Physical book available after return: {book.check_availability()}\")\n",
        "\n",
        "    print(kindle.title, kindle.author, kindle.isbn, kindle.get_online_users())\n",
        "    print(f\"Is the Online ebook available: {kindle.check_availability()}\")\n",
        "\n",
        "    kindle.borrow_book()\n",
        "    print(f\"{student.name} has borrowed the Ebook\")\n",
        "\n",
        "    kindle.return_book()\n",
        "    print(f\"Ebook available after return: {kindle.check_availability()}\")\n"
      ],
      "metadata": {
        "colab": {
          "base_uri": "https://localhost:8080/"
        },
        "id": "_CAml_UdZNJ-",
        "outputId": "de9c067b-23c0-43a5-c36e-b8ece6cdd759"
      },
      "execution_count": null,
      "outputs": [
        {
          "output_type": "stream",
          "name": "stdout",
          "text": [
            "moneyheist gully boy 1111\n",
            "Famous Five Enid Blyton 3333 10\n",
            "Is the physical book available: True\n",
            "Sudarshan Sir has borrowed the book\n",
            "Physical book available after return: True\n",
            "Amar Chitra Katha drogan 9999 40\n",
            "Is the Online ebook available: True\n",
            "gowtham has borrowed the Ebook\n",
            "Ebook available after return: True\n"
          ]
        }
      ]
    },
    {
      "cell_type": "markdown",
      "source": [
        "1. Encapsulation\n",
        "•\tWhy is __copies defined as a private attribute in PhysicalBook?\n",
        "•\tHow can we modify __copies safely without directly accessing it?\n"
      ],
      "metadata": {
        "id": "LElSWij9dKYe"
      }
    },
    {
      "cell_type": "markdown",
      "source": [
        "2. Inheritance\n",
        "•\tWhat is the purpose of Student and Professor classes inheriting from User?\n",
        "•\tIf a new type of user (e.g., Librarian) needs to be added, how can it be done?\n"
      ],
      "metadata": {
        "id": "riV3AHtddcad"
      }
    },
    {
      "cell_type": "code",
      "source": [
        "class Libraran:\n",
        "  def _init_(self,name):\n",
        "    super()._init_(name,\"Librarian\")\n",
        "\n",
        "  def borrowing_limit(self):\n",
        "    return float('inf')\n",
        "print()\n"
      ],
      "metadata": {
        "id": "aKcWEdq4ddid",
        "outputId": "320441ef-bc7f-4b6d-b145-85671080af02",
        "colab": {
          "base_uri": "https://localhost:8080/"
        }
      },
      "execution_count": null,
      "outputs": [
        {
          "output_type": "stream",
          "name": "stdout",
          "text": [
            "\n"
          ]
        }
      ]
    },
    {
      "cell_type": "markdown",
      "source": [
        "3. Polymorphism\n",
        "•\tBoth PhysicalBook and EBook implement check_availability(). How does this demonstrate polymorphism?\n",
        "•\tModify the program so that EBook also has a borrow method, but does not reduce copies when borrowed.\n"
      ],
      "metadata": {
        "id": "0o5XoyPtgpKX"
      }
    },
    {
      "cell_type": "code",
      "source": [
        "class Ebooks(Book):\n",
        "    def _init_(self,title,author,isbn,online_users):\n",
        "      super()._init_(title,author,isbn)\n",
        "      self.__online_users = online_users\n",
        "      self.__current_users = 0\n",
        "\n",
        "    def get_online_users(self):\n",
        "      return self.__online_users\n",
        "\n",
        "    def check_availability(self):\n",
        "      return self._current_users < self._online_users\n",
        "\n",
        "    def borrow_book(self):\n",
        "      if self.check_availability():\n",
        "          self.__current_users += 1\n",
        "\n",
        "    def return_book(self):\n",
        "        if self.__current_users > 0:\n",
        "            self.__current_users -= 1"
      ],
      "metadata": {
        "id": "hmNNLhlKgxAH"
      },
      "execution_count": null,
      "outputs": []
    },
    {
      "cell_type": "markdown",
      "source": [
        "4. Abstraction\n",
        "Why do we declare Book as an abstract class instead of using it directly?\n",
        "What will happen if we try to create an object of Book?\n"
      ],
      "metadata": {
        "id": "DNl3cJTcXkN6"
      }
    },
    {
      "cell_type": "code",
      "source": [
        "What will happen if we try to create an object of Book?\n",
        "# Ans.  . If we attempt to create an object of the Book class directly, Python will raise a TypeError\n",
        "#       . generic_book = Book(\"Title\", \"Author\", \"ISBN\")\n",
        "#       . This will result in the error:\n",
        "#       . TypeError: Can't instantiate abstract class Book with abstract methods check_availability, get_borrow_durat\n",
        "#       . Abstract classes are not meant to be instantiated; they serve as a foundation for creating concrete subclasses that provide the required implementations."
      ],
      "metadata": {
        "id": "DJwu0e9oXnk-"
      },
      "execution_count": null,
      "outputs": []
    },
    {
      "cell_type": "markdown",
      "source": [
        "5. Real-World Application\n",
        "How would you extend this program to track borrowed books per user?\n",
        "If books have different borrowing durations (e.g., E-books for 14 days, Physical books for 30 days), how would you implement that?\n",
        "\n",
        "Bonus Task: Extend the Case Study\n",
        "Implement a Librarian class who can add new books to the system.\n",
        "Implement a Book Catalog that stores multiple books and allows users to search for a book by title or author."
      ],
      "metadata": {
        "id": "5p7_0ACPYsAX"
      }
    },
    {
      "cell_type": "code",
      "source": [
        "we can create an abstract method named borrowing_duration in book and implement the limits for Ebooks class and physical books class."
      ],
      "metadata": {
        "id": "1uD2GCXAYz71"
      },
      "execution_count": null,
      "outputs": []
    },
    {
      "cell_type": "markdown",
      "source": [],
      "metadata": {
        "id": "WIRSq9WZeDUu"
      }
    }
  ]
}